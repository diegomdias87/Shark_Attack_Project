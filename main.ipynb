{
 "cells": [
  {
   "cell_type": "markdown",
   "metadata": {
    "heading_collapsed": true
   },
   "source": [
    "# First Evaluation"
   ]
  },
  {
   "cell_type": "markdown",
   "metadata": {
    "hidden": true
   },
   "source": [
    "## Import Libraries"
   ]
  },
  {
   "cell_type": "code",
   "execution_count": 322,
   "metadata": {
    "ExecuteTime": {
     "end_time": "2021-01-25T13:55:57.065622Z",
     "start_time": "2021-01-25T13:55:57.062614Z"
    },
    "hidden": true
   },
   "outputs": [],
   "source": [
    "import pandas as pd \n",
    "import re \n",
    "import matplotlib.pyplot as plt"
   ]
  },
  {
   "cell_type": "code",
   "execution_count": null,
   "metadata": {
    "hidden": true
   },
   "outputs": [],
   "source": [
    "db = pd.read_csv('data/attacks.csv', encoding='latin-1')"
   ]
  },
  {
   "cell_type": "markdown",
   "metadata": {
    "hidden": true
   },
   "source": [
    "## Database Overview"
   ]
  },
  {
   "cell_type": "code",
   "execution_count": 8,
   "metadata": {
    "ExecuteTime": {
     "end_time": "2021-01-22T20:50:08.669378Z",
     "start_time": "2021-01-22T20:50:08.642808Z"
    },
    "hidden": true
   },
   "outputs": [
    {
     "data": {
      "text/html": [
       "<div>\n",
       "<style scoped>\n",
       "    .dataframe tbody tr th:only-of-type {\n",
       "        vertical-align: middle;\n",
       "    }\n",
       "\n",
       "    .dataframe tbody tr th {\n",
       "        vertical-align: top;\n",
       "    }\n",
       "\n",
       "    .dataframe thead th {\n",
       "        text-align: right;\n",
       "    }\n",
       "</style>\n",
       "<table border=\"1\" class=\"dataframe\">\n",
       "  <thead>\n",
       "    <tr style=\"text-align: right;\">\n",
       "      <th></th>\n",
       "      <th>Case Number</th>\n",
       "      <th>Date</th>\n",
       "      <th>Year</th>\n",
       "      <th>Type</th>\n",
       "      <th>Country</th>\n",
       "      <th>Area</th>\n",
       "      <th>Location</th>\n",
       "      <th>Activity</th>\n",
       "      <th>Name</th>\n",
       "      <th>Sex</th>\n",
       "      <th>...</th>\n",
       "      <th>Species</th>\n",
       "      <th>Investigator or Source</th>\n",
       "      <th>pdf</th>\n",
       "      <th>href formula</th>\n",
       "      <th>href</th>\n",
       "      <th>Case Number.1</th>\n",
       "      <th>Case Number.2</th>\n",
       "      <th>original order</th>\n",
       "      <th>Unnamed: 22</th>\n",
       "      <th>Unnamed: 23</th>\n",
       "    </tr>\n",
       "  </thead>\n",
       "  <tbody>\n",
       "    <tr>\n",
       "      <th>0</th>\n",
       "      <td>2018.06.25</td>\n",
       "      <td>25-Jun-2018</td>\n",
       "      <td>2018.0</td>\n",
       "      <td>Boating</td>\n",
       "      <td>USA</td>\n",
       "      <td>California</td>\n",
       "      <td>Oceanside, San Diego County</td>\n",
       "      <td>Paddling</td>\n",
       "      <td>Julie Wolfe</td>\n",
       "      <td>F</td>\n",
       "      <td>...</td>\n",
       "      <td>White shark</td>\n",
       "      <td>R. Collier, GSAF</td>\n",
       "      <td>2018.06.25-Wolfe.pdf</td>\n",
       "      <td>http://sharkattackfile.net/spreadsheets/pdf_di...</td>\n",
       "      <td>http://sharkattackfile.net/spreadsheets/pdf_di...</td>\n",
       "      <td>2018.06.25</td>\n",
       "      <td>2018.06.25</td>\n",
       "      <td>6303.0</td>\n",
       "      <td>NaN</td>\n",
       "      <td>NaN</td>\n",
       "    </tr>\n",
       "    <tr>\n",
       "      <th>1</th>\n",
       "      <td>2018.06.18</td>\n",
       "      <td>18-Jun-2018</td>\n",
       "      <td>2018.0</td>\n",
       "      <td>Unprovoked</td>\n",
       "      <td>USA</td>\n",
       "      <td>Georgia</td>\n",
       "      <td>St. Simon Island, Glynn County</td>\n",
       "      <td>Standing</td>\n",
       "      <td>Adyson McNeely</td>\n",
       "      <td>F</td>\n",
       "      <td>...</td>\n",
       "      <td>NaN</td>\n",
       "      <td>K.McMurray, TrackingSharks.com</td>\n",
       "      <td>2018.06.18-McNeely.pdf</td>\n",
       "      <td>http://sharkattackfile.net/spreadsheets/pdf_di...</td>\n",
       "      <td>http://sharkattackfile.net/spreadsheets/pdf_di...</td>\n",
       "      <td>2018.06.18</td>\n",
       "      <td>2018.06.18</td>\n",
       "      <td>6302.0</td>\n",
       "      <td>NaN</td>\n",
       "      <td>NaN</td>\n",
       "    </tr>\n",
       "    <tr>\n",
       "      <th>2</th>\n",
       "      <td>2018.06.09</td>\n",
       "      <td>09-Jun-2018</td>\n",
       "      <td>2018.0</td>\n",
       "      <td>Invalid</td>\n",
       "      <td>USA</td>\n",
       "      <td>Hawaii</td>\n",
       "      <td>Habush, Oahu</td>\n",
       "      <td>Surfing</td>\n",
       "      <td>John Denges</td>\n",
       "      <td>M</td>\n",
       "      <td>...</td>\n",
       "      <td>NaN</td>\n",
       "      <td>K.McMurray, TrackingSharks.com</td>\n",
       "      <td>2018.06.09-Denges.pdf</td>\n",
       "      <td>http://sharkattackfile.net/spreadsheets/pdf_di...</td>\n",
       "      <td>http://sharkattackfile.net/spreadsheets/pdf_di...</td>\n",
       "      <td>2018.06.09</td>\n",
       "      <td>2018.06.09</td>\n",
       "      <td>6301.0</td>\n",
       "      <td>NaN</td>\n",
       "      <td>NaN</td>\n",
       "    </tr>\n",
       "    <tr>\n",
       "      <th>3</th>\n",
       "      <td>2018.06.08</td>\n",
       "      <td>08-Jun-2018</td>\n",
       "      <td>2018.0</td>\n",
       "      <td>Unprovoked</td>\n",
       "      <td>AUSTRALIA</td>\n",
       "      <td>New South Wales</td>\n",
       "      <td>Arrawarra Headland</td>\n",
       "      <td>Surfing</td>\n",
       "      <td>male</td>\n",
       "      <td>M</td>\n",
       "      <td>...</td>\n",
       "      <td>2 m shark</td>\n",
       "      <td>B. Myatt, GSAF</td>\n",
       "      <td>2018.06.08-Arrawarra.pdf</td>\n",
       "      <td>http://sharkattackfile.net/spreadsheets/pdf_di...</td>\n",
       "      <td>http://sharkattackfile.net/spreadsheets/pdf_di...</td>\n",
       "      <td>2018.06.08</td>\n",
       "      <td>2018.06.08</td>\n",
       "      <td>6300.0</td>\n",
       "      <td>NaN</td>\n",
       "      <td>NaN</td>\n",
       "    </tr>\n",
       "    <tr>\n",
       "      <th>4</th>\n",
       "      <td>2018.06.04</td>\n",
       "      <td>04-Jun-2018</td>\n",
       "      <td>2018.0</td>\n",
       "      <td>Provoked</td>\n",
       "      <td>MEXICO</td>\n",
       "      <td>Colima</td>\n",
       "      <td>La Ticla</td>\n",
       "      <td>Free diving</td>\n",
       "      <td>Gustavo Ramos</td>\n",
       "      <td>M</td>\n",
       "      <td>...</td>\n",
       "      <td>Tiger shark, 3m</td>\n",
       "      <td>A .Kipper</td>\n",
       "      <td>2018.06.04-Ramos.pdf</td>\n",
       "      <td>http://sharkattackfile.net/spreadsheets/pdf_di...</td>\n",
       "      <td>http://sharkattackfile.net/spreadsheets/pdf_di...</td>\n",
       "      <td>2018.06.04</td>\n",
       "      <td>2018.06.04</td>\n",
       "      <td>6299.0</td>\n",
       "      <td>NaN</td>\n",
       "      <td>NaN</td>\n",
       "    </tr>\n",
       "  </tbody>\n",
       "</table>\n",
       "<p>5 rows × 24 columns</p>\n",
       "</div>"
      ],
      "text/plain": [
       "  Case Number         Date    Year        Type    Country             Area  \\\n",
       "0  2018.06.25  25-Jun-2018  2018.0     Boating        USA       California   \n",
       "1  2018.06.18  18-Jun-2018  2018.0  Unprovoked        USA          Georgia   \n",
       "2  2018.06.09  09-Jun-2018  2018.0     Invalid        USA           Hawaii   \n",
       "3  2018.06.08  08-Jun-2018  2018.0  Unprovoked  AUSTRALIA  New South Wales   \n",
       "4  2018.06.04  04-Jun-2018  2018.0    Provoked     MEXICO           Colima   \n",
       "\n",
       "                         Location     Activity             Name Sex   ...  \\\n",
       "0     Oceanside, San Diego County     Paddling      Julie Wolfe    F  ...   \n",
       "1  St. Simon Island, Glynn County     Standing  Adyson McNeely     F  ...   \n",
       "2                    Habush, Oahu      Surfing      John Denges    M  ...   \n",
       "3              Arrawarra Headland      Surfing             male    M  ...   \n",
       "4                        La Ticla  Free diving   Gustavo Ramos     M  ...   \n",
       "\n",
       "          Species           Investigator or Source                       pdf  \\\n",
       "0      White shark                R. Collier, GSAF      2018.06.25-Wolfe.pdf   \n",
       "1              NaN  K.McMurray, TrackingSharks.com    2018.06.18-McNeely.pdf   \n",
       "2              NaN  K.McMurray, TrackingSharks.com     2018.06.09-Denges.pdf   \n",
       "3        2 m shark                  B. Myatt, GSAF  2018.06.08-Arrawarra.pdf   \n",
       "4  Tiger shark, 3m                       A .Kipper      2018.06.04-Ramos.pdf   \n",
       "\n",
       "                                        href formula  \\\n",
       "0  http://sharkattackfile.net/spreadsheets/pdf_di...   \n",
       "1  http://sharkattackfile.net/spreadsheets/pdf_di...   \n",
       "2  http://sharkattackfile.net/spreadsheets/pdf_di...   \n",
       "3  http://sharkattackfile.net/spreadsheets/pdf_di...   \n",
       "4  http://sharkattackfile.net/spreadsheets/pdf_di...   \n",
       "\n",
       "                                                href Case Number.1  \\\n",
       "0  http://sharkattackfile.net/spreadsheets/pdf_di...    2018.06.25   \n",
       "1  http://sharkattackfile.net/spreadsheets/pdf_di...    2018.06.18   \n",
       "2  http://sharkattackfile.net/spreadsheets/pdf_di...    2018.06.09   \n",
       "3  http://sharkattackfile.net/spreadsheets/pdf_di...    2018.06.08   \n",
       "4  http://sharkattackfile.net/spreadsheets/pdf_di...    2018.06.04   \n",
       "\n",
       "  Case Number.2 original order Unnamed: 22 Unnamed: 23  \n",
       "0    2018.06.25         6303.0         NaN         NaN  \n",
       "1    2018.06.18         6302.0         NaN         NaN  \n",
       "2    2018.06.09         6301.0         NaN         NaN  \n",
       "3    2018.06.08         6300.0         NaN         NaN  \n",
       "4    2018.06.04         6299.0         NaN         NaN  \n",
       "\n",
       "[5 rows x 24 columns]"
      ]
     },
     "execution_count": 8,
     "metadata": {},
     "output_type": "execute_result"
    }
   ],
   "source": [
    "db.head()"
   ]
  },
  {
   "cell_type": "code",
   "execution_count": 9,
   "metadata": {
    "ExecuteTime": {
     "end_time": "2021-01-22T20:51:51.047929Z",
     "start_time": "2021-01-22T20:51:51.013342Z"
    },
    "hidden": true
   },
   "outputs": [
    {
     "name": "stdout",
     "output_type": "stream",
     "text": [
      "<class 'pandas.core.frame.DataFrame'>\n",
      "RangeIndex: 25723 entries, 0 to 25722\n",
      "Data columns (total 24 columns):\n",
      " #   Column                  Non-Null Count  Dtype  \n",
      "---  ------                  --------------  -----  \n",
      " 0   Case Number             8702 non-null   object \n",
      " 1   Date                    6302 non-null   object \n",
      " 2   Year                    6300 non-null   float64\n",
      " 3   Type                    6298 non-null   object \n",
      " 4   Country                 6252 non-null   object \n",
      " 5   Area                    5847 non-null   object \n",
      " 6   Location                5762 non-null   object \n",
      " 7   Activity                5758 non-null   object \n",
      " 8   Name                    6092 non-null   object \n",
      " 9   Sex                     5737 non-null   object \n",
      " 10  Age                     3471 non-null   object \n",
      " 11  Injury                  6274 non-null   object \n",
      " 12  Fatal (Y/N)             5763 non-null   object \n",
      " 13  Time                    2948 non-null   object \n",
      " 14  Species                 3464 non-null   object \n",
      " 15  Investigator or Source  6285 non-null   object \n",
      " 16  pdf                     6302 non-null   object \n",
      " 17  href formula            6301 non-null   object \n",
      " 18  href                    6302 non-null   object \n",
      " 19  Case Number.1           6302 non-null   object \n",
      " 20  Case Number.2           6302 non-null   object \n",
      " 21  original order          6309 non-null   float64\n",
      " 22  Unnamed: 22             1 non-null      object \n",
      " 23  Unnamed: 23             2 non-null      object \n",
      "dtypes: float64(2), object(22)\n",
      "memory usage: 4.7+ MB\n"
     ]
    }
   ],
   "source": [
    "db.info()"
   ]
  },
  {
   "cell_type": "markdown",
   "metadata": {
    "hidden": true
   },
   "source": [
    "## Investigating the utility of some columns"
   ]
  },
  {
   "cell_type": "code",
   "execution_count": 12,
   "metadata": {
    "ExecuteTime": {
     "end_time": "2021-01-23T12:06:09.957432Z",
     "start_time": "2021-01-23T12:06:09.921658Z"
    },
    "hidden": true
   },
   "outputs": [
    {
     "data": {
      "text/html": [
       "<div>\n",
       "<style scoped>\n",
       "    .dataframe tbody tr th:only-of-type {\n",
       "        vertical-align: middle;\n",
       "    }\n",
       "\n",
       "    .dataframe tbody tr th {\n",
       "        vertical-align: top;\n",
       "    }\n",
       "\n",
       "    .dataframe thead th {\n",
       "        text-align: right;\n",
       "    }\n",
       "</style>\n",
       "<table border=\"1\" class=\"dataframe\">\n",
       "  <thead>\n",
       "    <tr style=\"text-align: right;\">\n",
       "      <th></th>\n",
       "      <th>Case Number</th>\n",
       "      <th>Date</th>\n",
       "      <th>Year</th>\n",
       "      <th>Type</th>\n",
       "      <th>Country</th>\n",
       "      <th>Area</th>\n",
       "      <th>Location</th>\n",
       "      <th>Activity</th>\n",
       "      <th>Name</th>\n",
       "      <th>Sex</th>\n",
       "      <th>...</th>\n",
       "      <th>Species</th>\n",
       "      <th>Investigator or Source</th>\n",
       "      <th>pdf</th>\n",
       "      <th>href formula</th>\n",
       "      <th>href</th>\n",
       "      <th>Case Number.1</th>\n",
       "      <th>Case Number.2</th>\n",
       "      <th>original order</th>\n",
       "      <th>Unnamed: 22</th>\n",
       "      <th>Unnamed: 23</th>\n",
       "    </tr>\n",
       "  </thead>\n",
       "  <tbody>\n",
       "    <tr>\n",
       "      <th>4415</th>\n",
       "      <td>1952.03.30</td>\n",
       "      <td>30-Mar-1952</td>\n",
       "      <td>1952.0</td>\n",
       "      <td>Unprovoked</td>\n",
       "      <td>NETHERLANDS ANTILLES</td>\n",
       "      <td>Curacao</td>\n",
       "      <td>NaN</td>\n",
       "      <td>Went to aid of child being menaced by the shark</td>\n",
       "      <td>A.J. Eggink</td>\n",
       "      <td>M</td>\n",
       "      <td>...</td>\n",
       "      <td>Bull shark, 2.7 m [9'] was captured &amp; dragged ...</td>\n",
       "      <td>J. Randall, p.352 in Sharks &amp; Survival; H.D. B...</td>\n",
       "      <td>1952.03.30-Eggink.pdf</td>\n",
       "      <td>http://sharkattackfile.net/spreadsheets/pdf_di...</td>\n",
       "      <td>http://sharkattackfile.net/spreadsheets/pdf_di...</td>\n",
       "      <td>1952.03.30</td>\n",
       "      <td>1952.03.30</td>\n",
       "      <td>1888.0</td>\n",
       "      <td>NaN</td>\n",
       "      <td>Teramo</td>\n",
       "    </tr>\n",
       "    <tr>\n",
       "      <th>5840</th>\n",
       "      <td>1878.09.14.R</td>\n",
       "      <td>Reported 14-Sep-1878</td>\n",
       "      <td>1878.0</td>\n",
       "      <td>Provoked</td>\n",
       "      <td>USA</td>\n",
       "      <td>Connecticut</td>\n",
       "      <td>Branford, New Haven County</td>\n",
       "      <td>Fishing</td>\n",
       "      <td>Captain Pattison</td>\n",
       "      <td>M</td>\n",
       "      <td>...</td>\n",
       "      <td>NaN</td>\n",
       "      <td>St. Joseph Herald, 9/14/1878</td>\n",
       "      <td>1878.09.14.R-Pattison.pdf</td>\n",
       "      <td>http://sharkattackfile.net/spreadsheets/pdf_di...</td>\n",
       "      <td>http://sharkattackfile.net/spreadsheets/pdf_di...</td>\n",
       "      <td>1878.09.14.R</td>\n",
       "      <td>1878.09.14.R</td>\n",
       "      <td>463.0</td>\n",
       "      <td>NaN</td>\n",
       "      <td>change filename</td>\n",
       "    </tr>\n",
       "  </tbody>\n",
       "</table>\n",
       "<p>2 rows × 24 columns</p>\n",
       "</div>"
      ],
      "text/plain": [
       "       Case Number                  Date    Year        Type  \\\n",
       "4415    1952.03.30           30-Mar-1952  1952.0  Unprovoked   \n",
       "5840  1878.09.14.R  Reported 14-Sep-1878  1878.0    Provoked   \n",
       "\n",
       "                   Country         Area                    Location  \\\n",
       "4415  NETHERLANDS ANTILLES      Curacao                         NaN   \n",
       "5840                   USA  Connecticut  Branford, New Haven County   \n",
       "\n",
       "                                             Activity              Name Sex   \\\n",
       "4415  Went to aid of child being menaced by the shark       A.J. Eggink    M   \n",
       "5840                                          Fishing  Captain Pattison    M   \n",
       "\n",
       "      ...                                           Species   \\\n",
       "4415  ...  Bull shark, 2.7 m [9'] was captured & dragged ...   \n",
       "5840  ...                                                NaN   \n",
       "\n",
       "                                 Investigator or Source  \\\n",
       "4415  J. Randall, p.352 in Sharks & Survival; H.D. B...   \n",
       "5840                       St. Joseph Herald, 9/14/1878   \n",
       "\n",
       "                            pdf  \\\n",
       "4415      1952.03.30-Eggink.pdf   \n",
       "5840  1878.09.14.R-Pattison.pdf   \n",
       "\n",
       "                                           href formula  \\\n",
       "4415  http://sharkattackfile.net/spreadsheets/pdf_di...   \n",
       "5840  http://sharkattackfile.net/spreadsheets/pdf_di...   \n",
       "\n",
       "                                                   href Case Number.1  \\\n",
       "4415  http://sharkattackfile.net/spreadsheets/pdf_di...    1952.03.30   \n",
       "5840  http://sharkattackfile.net/spreadsheets/pdf_di...  1878.09.14.R   \n",
       "\n",
       "     Case Number.2 original order Unnamed: 22      Unnamed: 23  \n",
       "4415    1952.03.30         1888.0         NaN           Teramo  \n",
       "5840  1878.09.14.R          463.0         NaN  change filename  \n",
       "\n",
       "[2 rows x 24 columns]"
      ]
     },
     "execution_count": 12,
     "metadata": {},
     "output_type": "execute_result"
    }
   ],
   "source": [
    "db[db['Unnamed: 23'].notnull()]"
   ]
  },
  {
   "cell_type": "code",
   "execution_count": 24,
   "metadata": {
    "ExecuteTime": {
     "end_time": "2021-01-23T12:14:17.313162Z",
     "start_time": "2021-01-23T12:14:17.297611Z"
    },
    "hidden": true
   },
   "outputs": [
    {
     "data": {
      "text/plain": [
       "False    19445\n",
       "True      6278\n",
       "dtype: int64"
      ]
     },
     "execution_count": 24,
     "metadata": {},
     "output_type": "execute_result"
    }
   ],
   "source": [
    "case_case1 = db['Case Number'] == db['Case Number.1']\n",
    "case_case1.value_counts() "
   ]
  },
  {
   "cell_type": "code",
   "execution_count": 26,
   "metadata": {
    "ExecuteTime": {
     "end_time": "2021-01-23T12:17:33.015868Z",
     "start_time": "2021-01-23T12:17:32.936148Z"
    },
    "hidden": true
   },
   "outputs": [
    {
     "data": {
      "text/html": [
       "<div>\n",
       "<style scoped>\n",
       "    .dataframe tbody tr th:only-of-type {\n",
       "        vertical-align: middle;\n",
       "    }\n",
       "\n",
       "    .dataframe tbody tr th {\n",
       "        vertical-align: top;\n",
       "    }\n",
       "\n",
       "    .dataframe thead th {\n",
       "        text-align: right;\n",
       "    }\n",
       "</style>\n",
       "<table border=\"1\" class=\"dataframe\">\n",
       "  <thead>\n",
       "    <tr style=\"text-align: right;\">\n",
       "      <th></th>\n",
       "      <th>Case Number</th>\n",
       "      <th>Date</th>\n",
       "      <th>Year</th>\n",
       "      <th>Type</th>\n",
       "      <th>Country</th>\n",
       "      <th>Area</th>\n",
       "      <th>Location</th>\n",
       "      <th>Activity</th>\n",
       "      <th>Name</th>\n",
       "      <th>Sex</th>\n",
       "      <th>...</th>\n",
       "      <th>Fatal (Y/N)</th>\n",
       "      <th>Time</th>\n",
       "      <th>Species</th>\n",
       "      <th>Investigator or Source</th>\n",
       "      <th>pdf</th>\n",
       "      <th>href formula</th>\n",
       "      <th>href</th>\n",
       "      <th>Case Number.1</th>\n",
       "      <th>Case Number.2</th>\n",
       "      <th>original order</th>\n",
       "    </tr>\n",
       "  </thead>\n",
       "  <tbody>\n",
       "    <tr>\n",
       "      <th>34</th>\n",
       "      <td>2018.04.03</td>\n",
       "      <td>03-Apr-2018</td>\n",
       "      <td>2018.0</td>\n",
       "      <td>Unprovoked</td>\n",
       "      <td>SOUTH AFRICA</td>\n",
       "      <td>Eastern Cape Province</td>\n",
       "      <td>St. Francis Bay</td>\n",
       "      <td>Surfing</td>\n",
       "      <td>Ross Spowart</td>\n",
       "      <td>M</td>\n",
       "      <td>...</td>\n",
       "      <td>N</td>\n",
       "      <td>15h00</td>\n",
       "      <td>White shark</td>\n",
       "      <td>K. McMurray, TrackingSharks.com</td>\n",
       "      <td>2018.04.03-StFrancisBay.pdf</td>\n",
       "      <td>http://sharkattackfile.net/spreadsheets/pdf_di...</td>\n",
       "      <td>http://sharkattackfile.net/spreadsheets/pdf_di...</td>\n",
       "      <td>2018.04.02</td>\n",
       "      <td>2018.04.03</td>\n",
       "      <td>6269.0</td>\n",
       "    </tr>\n",
       "    <tr>\n",
       "      <th>117</th>\n",
       "      <td>2017.07.20.a</td>\n",
       "      <td>20-Jul-2017</td>\n",
       "      <td>2017.0</td>\n",
       "      <td>Unprovoked</td>\n",
       "      <td>USA</td>\n",
       "      <td>California</td>\n",
       "      <td>Seal Rock, Goleta Beach, Santa Barbara</td>\n",
       "      <td>SUP</td>\n",
       "      <td>Rolf Geyling</td>\n",
       "      <td>M</td>\n",
       "      <td>...</td>\n",
       "      <td>N</td>\n",
       "      <td>07h45</td>\n",
       "      <td>White shark, 8' to 10'</td>\n",
       "      <td>R. Collier, GSAF</td>\n",
       "      <td>2017.07.20.a-Geyling.pdf</td>\n",
       "      <td>http://sharkattackfile.net/spreadsheets/pdf_di...</td>\n",
       "      <td>http://sharkattackfile.net/spreadsheets/pdf_di...</td>\n",
       "      <td>2017/07.20.a</td>\n",
       "      <td>2017.07.20.a</td>\n",
       "      <td>6186.0</td>\n",
       "    </tr>\n",
       "    <tr>\n",
       "      <th>144</th>\n",
       "      <td>2017.05.06</td>\n",
       "      <td>05-May-2017</td>\n",
       "      <td>2017.0</td>\n",
       "      <td>Unprovoked</td>\n",
       "      <td>MEXICO</td>\n",
       "      <td>Baja California Sur</td>\n",
       "      <td>Los Arbolitos, Cabo Pulmo</td>\n",
       "      <td>Snorkeling</td>\n",
       "      <td>Andres Rozada</td>\n",
       "      <td>M</td>\n",
       "      <td>...</td>\n",
       "      <td>Y</td>\n",
       "      <td>17h00</td>\n",
       "      <td>NaN</td>\n",
       "      <td>J. Rozada</td>\n",
       "      <td>2017.05.06-Rozada.pdf</td>\n",
       "      <td>http://sharkattackfile.net/spreadsheets/pdf_di...</td>\n",
       "      <td>http://sharkattackfile.net/spreadsheets/pdf_di...</td>\n",
       "      <td>2017.06.06</td>\n",
       "      <td>2017.05.06</td>\n",
       "      <td>6159.0</td>\n",
       "    </tr>\n",
       "    <tr>\n",
       "      <th>217</th>\n",
       "      <td>2016.09.15</td>\n",
       "      <td>16-Sep-2016</td>\n",
       "      <td>2016.0</td>\n",
       "      <td>Unprovoked</td>\n",
       "      <td>AUSTRALIA</td>\n",
       "      <td>Victoria</td>\n",
       "      <td>Bells Beach</td>\n",
       "      <td>Surfing</td>\n",
       "      <td>male</td>\n",
       "      <td>M</td>\n",
       "      <td>...</td>\n",
       "      <td>N</td>\n",
       "      <td>NaN</td>\n",
       "      <td>2 m shark</td>\n",
       "      <td>The Age, 9/16/2016</td>\n",
       "      <td>2016.09.16-BellsBeach.pdf</td>\n",
       "      <td>http://sharkattackfile.net/spreadsheets/pdf_di...</td>\n",
       "      <td>http://sharkattackfile.net/spreadsheets/pdf_di...</td>\n",
       "      <td>2016.09.16</td>\n",
       "      <td>2016.09.15</td>\n",
       "      <td>6086.0</td>\n",
       "    </tr>\n",
       "    <tr>\n",
       "      <th>314</th>\n",
       "      <td>2016.01.24.b</td>\n",
       "      <td>24-Jan-2016</td>\n",
       "      <td>2016.0</td>\n",
       "      <td>Unprovoked</td>\n",
       "      <td>USA</td>\n",
       "      <td>Texas</td>\n",
       "      <td>Off Surfside</td>\n",
       "      <td>Spearfishing</td>\n",
       "      <td>Keith Love</td>\n",
       "      <td>M</td>\n",
       "      <td>...</td>\n",
       "      <td>N</td>\n",
       "      <td>09h30 / 10h00</td>\n",
       "      <td>Bull sharks x 2</td>\n",
       "      <td>K. Love</td>\n",
       "      <td>2016.01.24.b-Love.pdf</td>\n",
       "      <td>http://sharkattackfile.net/spreadsheets/pdf_di...</td>\n",
       "      <td>http://sharkattackfile.net/spreadsheets/pdf_di...</td>\n",
       "      <td>2015.01.24.b</td>\n",
       "      <td>2016.01.24.b</td>\n",
       "      <td>5989.0</td>\n",
       "    </tr>\n",
       "    <tr>\n",
       "      <th>...</th>\n",
       "      <td>...</td>\n",
       "      <td>...</td>\n",
       "      <td>...</td>\n",
       "      <td>...</td>\n",
       "      <td>...</td>\n",
       "      <td>...</td>\n",
       "      <td>...</td>\n",
       "      <td>...</td>\n",
       "      <td>...</td>\n",
       "      <td>...</td>\n",
       "      <td>...</td>\n",
       "      <td>...</td>\n",
       "      <td>...</td>\n",
       "      <td>...</td>\n",
       "      <td>...</td>\n",
       "      <td>...</td>\n",
       "      <td>...</td>\n",
       "      <td>...</td>\n",
       "      <td>...</td>\n",
       "      <td>...</td>\n",
       "      <td>...</td>\n",
       "    </tr>\n",
       "    <tr>\n",
       "      <th>25718</th>\n",
       "      <td>NaN</td>\n",
       "      <td>NaN</td>\n",
       "      <td>NaN</td>\n",
       "      <td>NaN</td>\n",
       "      <td>NaN</td>\n",
       "      <td>NaN</td>\n",
       "      <td>NaN</td>\n",
       "      <td>NaN</td>\n",
       "      <td>NaN</td>\n",
       "      <td>NaN</td>\n",
       "      <td>...</td>\n",
       "      <td>NaN</td>\n",
       "      <td>NaN</td>\n",
       "      <td>NaN</td>\n",
       "      <td>NaN</td>\n",
       "      <td>NaN</td>\n",
       "      <td>NaN</td>\n",
       "      <td>NaN</td>\n",
       "      <td>NaN</td>\n",
       "      <td>NaN</td>\n",
       "      <td>NaN</td>\n",
       "    </tr>\n",
       "    <tr>\n",
       "      <th>25719</th>\n",
       "      <td>NaN</td>\n",
       "      <td>NaN</td>\n",
       "      <td>NaN</td>\n",
       "      <td>NaN</td>\n",
       "      <td>NaN</td>\n",
       "      <td>NaN</td>\n",
       "      <td>NaN</td>\n",
       "      <td>NaN</td>\n",
       "      <td>NaN</td>\n",
       "      <td>NaN</td>\n",
       "      <td>...</td>\n",
       "      <td>NaN</td>\n",
       "      <td>NaN</td>\n",
       "      <td>NaN</td>\n",
       "      <td>NaN</td>\n",
       "      <td>NaN</td>\n",
       "      <td>NaN</td>\n",
       "      <td>NaN</td>\n",
       "      <td>NaN</td>\n",
       "      <td>NaN</td>\n",
       "      <td>NaN</td>\n",
       "    </tr>\n",
       "    <tr>\n",
       "      <th>25720</th>\n",
       "      <td>NaN</td>\n",
       "      <td>NaN</td>\n",
       "      <td>NaN</td>\n",
       "      <td>NaN</td>\n",
       "      <td>NaN</td>\n",
       "      <td>NaN</td>\n",
       "      <td>NaN</td>\n",
       "      <td>NaN</td>\n",
       "      <td>NaN</td>\n",
       "      <td>NaN</td>\n",
       "      <td>...</td>\n",
       "      <td>NaN</td>\n",
       "      <td>NaN</td>\n",
       "      <td>NaN</td>\n",
       "      <td>NaN</td>\n",
       "      <td>NaN</td>\n",
       "      <td>NaN</td>\n",
       "      <td>NaN</td>\n",
       "      <td>NaN</td>\n",
       "      <td>NaN</td>\n",
       "      <td>NaN</td>\n",
       "    </tr>\n",
       "    <tr>\n",
       "      <th>25721</th>\n",
       "      <td>NaN</td>\n",
       "      <td>NaN</td>\n",
       "      <td>NaN</td>\n",
       "      <td>NaN</td>\n",
       "      <td>NaN</td>\n",
       "      <td>NaN</td>\n",
       "      <td>NaN</td>\n",
       "      <td>NaN</td>\n",
       "      <td>NaN</td>\n",
       "      <td>NaN</td>\n",
       "      <td>...</td>\n",
       "      <td>NaN</td>\n",
       "      <td>NaN</td>\n",
       "      <td>NaN</td>\n",
       "      <td>NaN</td>\n",
       "      <td>NaN</td>\n",
       "      <td>NaN</td>\n",
       "      <td>NaN</td>\n",
       "      <td>NaN</td>\n",
       "      <td>NaN</td>\n",
       "      <td>NaN</td>\n",
       "    </tr>\n",
       "    <tr>\n",
       "      <th>25722</th>\n",
       "      <td>xx</td>\n",
       "      <td>NaN</td>\n",
       "      <td>NaN</td>\n",
       "      <td>NaN</td>\n",
       "      <td>NaN</td>\n",
       "      <td>NaN</td>\n",
       "      <td>NaN</td>\n",
       "      <td>NaN</td>\n",
       "      <td>NaN</td>\n",
       "      <td>NaN</td>\n",
       "      <td>...</td>\n",
       "      <td>NaN</td>\n",
       "      <td>NaN</td>\n",
       "      <td>NaN</td>\n",
       "      <td>NaN</td>\n",
       "      <td>NaN</td>\n",
       "      <td>NaN</td>\n",
       "      <td>NaN</td>\n",
       "      <td>NaN</td>\n",
       "      <td>NaN</td>\n",
       "      <td>NaN</td>\n",
       "    </tr>\n",
       "  </tbody>\n",
       "</table>\n",
       "<p>19445 rows × 22 columns</p>\n",
       "</div>"
      ],
      "text/plain": [
       "        Case Number         Date    Year        Type       Country  \\\n",
       "34       2018.04.03  03-Apr-2018  2018.0  Unprovoked  SOUTH AFRICA   \n",
       "117    2017.07.20.a  20-Jul-2017  2017.0  Unprovoked           USA   \n",
       "144      2017.05.06  05-May-2017  2017.0  Unprovoked        MEXICO   \n",
       "217      2016.09.15  16-Sep-2016  2016.0  Unprovoked     AUSTRALIA   \n",
       "314    2016.01.24.b  24-Jan-2016  2016.0  Unprovoked           USA   \n",
       "...             ...          ...     ...         ...           ...   \n",
       "25718           NaN          NaN     NaN         NaN           NaN   \n",
       "25719           NaN          NaN     NaN         NaN           NaN   \n",
       "25720           NaN          NaN     NaN         NaN           NaN   \n",
       "25721           NaN          NaN     NaN         NaN           NaN   \n",
       "25722            xx          NaN     NaN         NaN           NaN   \n",
       "\n",
       "                        Area                                Location  \\\n",
       "34     Eastern Cape Province                         St. Francis Bay   \n",
       "117               California  Seal Rock, Goleta Beach, Santa Barbara   \n",
       "144      Baja California Sur               Los Arbolitos, Cabo Pulmo   \n",
       "217                 Victoria                             Bells Beach   \n",
       "314                    Texas                            Off Surfside   \n",
       "...                      ...                                     ...   \n",
       "25718                    NaN                                     NaN   \n",
       "25719                    NaN                                     NaN   \n",
       "25720                    NaN                                     NaN   \n",
       "25721                    NaN                                     NaN   \n",
       "25722                    NaN                                     NaN   \n",
       "\n",
       "           Activity           Name Sex   ... Fatal (Y/N)           Time  \\\n",
       "34          Surfing   Ross Spowart    M  ...           N          15h00   \n",
       "117             SUP   Rolf Geyling    M  ...           N          07h45   \n",
       "144      Snorkeling  Andres Rozada    M  ...           Y          17h00   \n",
       "217         Surfing           male    M  ...           N            NaN   \n",
       "314    Spearfishing     Keith Love    M  ...           N  09h30 / 10h00   \n",
       "...             ...            ...  ...  ...         ...            ...   \n",
       "25718           NaN            NaN  NaN  ...         NaN            NaN   \n",
       "25719           NaN            NaN  NaN  ...         NaN            NaN   \n",
       "25720           NaN            NaN  NaN  ...         NaN            NaN   \n",
       "25721           NaN            NaN  NaN  ...         NaN            NaN   \n",
       "25722           NaN            NaN  NaN  ...         NaN            NaN   \n",
       "\n",
       "                     Species            Investigator or Source  \\\n",
       "34                White shark  K. McMurray, TrackingSharks.com   \n",
       "117    White shark, 8' to 10'                 R. Collier, GSAF   \n",
       "144                       NaN                        J. Rozada   \n",
       "217                 2 m shark               The Age, 9/16/2016   \n",
       "314           Bull sharks x 2                          K. Love   \n",
       "...                       ...                              ...   \n",
       "25718                     NaN                              NaN   \n",
       "25719                     NaN                              NaN   \n",
       "25720                     NaN                              NaN   \n",
       "25721                     NaN                              NaN   \n",
       "25722                     NaN                              NaN   \n",
       "\n",
       "                               pdf  \\\n",
       "34     2018.04.03-StFrancisBay.pdf   \n",
       "117       2017.07.20.a-Geyling.pdf   \n",
       "144          2017.05.06-Rozada.pdf   \n",
       "217      2016.09.16-BellsBeach.pdf   \n",
       "314          2016.01.24.b-Love.pdf   \n",
       "...                            ...   \n",
       "25718                          NaN   \n",
       "25719                          NaN   \n",
       "25720                          NaN   \n",
       "25721                          NaN   \n",
       "25722                          NaN   \n",
       "\n",
       "                                            href formula  \\\n",
       "34     http://sharkattackfile.net/spreadsheets/pdf_di...   \n",
       "117    http://sharkattackfile.net/spreadsheets/pdf_di...   \n",
       "144    http://sharkattackfile.net/spreadsheets/pdf_di...   \n",
       "217    http://sharkattackfile.net/spreadsheets/pdf_di...   \n",
       "314    http://sharkattackfile.net/spreadsheets/pdf_di...   \n",
       "...                                                  ...   \n",
       "25718                                                NaN   \n",
       "25719                                                NaN   \n",
       "25720                                                NaN   \n",
       "25721                                                NaN   \n",
       "25722                                                NaN   \n",
       "\n",
       "                                                    href Case Number.1  \\\n",
       "34     http://sharkattackfile.net/spreadsheets/pdf_di...    2018.04.02   \n",
       "117    http://sharkattackfile.net/spreadsheets/pdf_di...  2017/07.20.a   \n",
       "144    http://sharkattackfile.net/spreadsheets/pdf_di...    2017.06.06   \n",
       "217    http://sharkattackfile.net/spreadsheets/pdf_di...    2016.09.16   \n",
       "314    http://sharkattackfile.net/spreadsheets/pdf_di...  2015.01.24.b   \n",
       "...                                                  ...           ...   \n",
       "25718                                                NaN           NaN   \n",
       "25719                                                NaN           NaN   \n",
       "25720                                                NaN           NaN   \n",
       "25721                                                NaN           NaN   \n",
       "25722                                                NaN           NaN   \n",
       "\n",
       "      Case Number.2 original order  \n",
       "34       2018.04.03         6269.0  \n",
       "117    2017.07.20.a         6186.0  \n",
       "144      2017.05.06         6159.0  \n",
       "217      2016.09.15         6086.0  \n",
       "314    2016.01.24.b         5989.0  \n",
       "...             ...            ...  \n",
       "25718           NaN            NaN  \n",
       "25719           NaN            NaN  \n",
       "25720           NaN            NaN  \n",
       "25721           NaN            NaN  \n",
       "25722           NaN            NaN  \n",
       "\n",
       "[19445 rows x 22 columns]"
      ]
     },
     "execution_count": 26,
     "metadata": {},
     "output_type": "execute_result"
    }
   ],
   "source": [
    "db[~case_case1]"
   ]
  },
  {
   "cell_type": "code",
   "execution_count": 29,
   "metadata": {
    "ExecuteTime": {
     "end_time": "2021-01-23T12:23:36.013969Z",
     "start_time": "2021-01-23T12:23:36.002440Z"
    },
    "hidden": true
   },
   "outputs": [
    {
     "data": {
      "text/plain": [
       "569.0     2\n",
       "5639.0    1\n",
       "4754.0    1\n",
       "2899.0    1\n",
       "5259.0    1\n",
       "         ..\n",
       "439.0     1\n",
       "257.0     1\n",
       "4425.0    1\n",
       "4065.0    1\n",
       "6144.0    1\n",
       "Name: original order, Length: 6308, dtype: int64"
      ]
     },
     "execution_count": 29,
     "metadata": {},
     "output_type": "execute_result"
    }
   ],
   "source": [
    "db['original order'].value_counts()"
   ]
  },
  {
   "cell_type": "code",
   "execution_count": 33,
   "metadata": {
    "ExecuteTime": {
     "end_time": "2021-01-23T12:27:04.554997Z",
     "start_time": "2021-01-23T12:27:04.549984Z"
    },
    "hidden": true
   },
   "outputs": [
    {
     "data": {
      "text/plain": [
       "'http://sharkattackfile.net/spreadsheets/pdf_directory/2018.06.25-Wolfe.pdf'"
      ]
     },
     "execution_count": 33,
     "metadata": {},
     "output_type": "execute_result"
    }
   ],
   "source": [
    "db['href'][0]"
   ]
  },
  {
   "cell_type": "code",
   "execution_count": 34,
   "metadata": {
    "ExecuteTime": {
     "end_time": "2021-01-23T12:30:32.676446Z",
     "start_time": "2021-01-23T12:30:32.671935Z"
    },
    "hidden": true
   },
   "outputs": [
    {
     "data": {
      "text/plain": [
       "'http://sharkattackfile.net/spreadsheets/pdf_directory/2018.06.18-McNeely.pdf'"
      ]
     },
     "execution_count": 34,
     "metadata": {},
     "output_type": "execute_result"
    }
   ],
   "source": [
    "db['href'][1]"
   ]
  },
  {
   "cell_type": "code",
   "execution_count": 35,
   "metadata": {
    "ExecuteTime": {
     "end_time": "2021-01-23T12:34:17.090191Z",
     "start_time": "2021-01-23T12:34:17.085679Z"
    },
    "hidden": true
   },
   "outputs": [
    {
     "data": {
      "text/plain": [
       "'http://sharkattackfile.net/spreadsheets/pdf_directory/2018.06.09-Denges.pdf'"
      ]
     },
     "execution_count": 35,
     "metadata": {},
     "output_type": "execute_result"
    }
   ],
   "source": [
    "db['href'][2]"
   ]
  },
  {
   "cell_type": "code",
   "execution_count": 36,
   "metadata": {
    "ExecuteTime": {
     "end_time": "2021-01-23T12:43:28.040619Z",
     "start_time": "2021-01-23T12:43:28.031094Z"
    },
    "hidden": true
   },
   "outputs": [
    {
     "data": {
      "text/plain": [
       "False    19481\n",
       "True      6242\n",
       "dtype: int64"
      ]
     },
     "execution_count": 36,
     "metadata": {},
     "output_type": "execute_result"
    }
   ],
   "source": [
    "href_formula = db['href'] == db['href formula']\n",
    "href_formula.value_counts()"
   ]
  },
  {
   "cell_type": "code",
   "execution_count": 38,
   "metadata": {
    "ExecuteTime": {
     "end_time": "2021-01-23T12:44:34.836233Z",
     "start_time": "2021-01-23T12:44:34.826714Z"
    },
    "hidden": true
   },
   "outputs": [
    {
     "data": {
      "text/plain": [
       "True     19421\n",
       "False     6302\n",
       "Name: href, dtype: int64"
      ]
     },
     "execution_count": 38,
     "metadata": {},
     "output_type": "execute_result"
    }
   ],
   "source": [
    "href_null = db['href'].isnull()\n",
    "href_null.value_counts()"
   ]
  },
  {
   "cell_type": "markdown",
   "metadata": {
    "hidden": true
   },
   "source": [
    "## Evaluating null values throughout the whole database"
   ]
  },
  {
   "cell_type": "code",
   "execution_count": 57,
   "metadata": {
    "ExecuteTime": {
     "end_time": "2021-01-23T13:05:05.968313Z",
     "start_time": "2021-01-23T13:05:05.926703Z"
    },
    "hidden": true
   },
   "outputs": [],
   "source": [
    "null_mask = db.isnull().sum(axis=1)[db.isnull().sum(axis=1)>8]"
   ]
  },
  {
   "cell_type": "code",
   "execution_count": 58,
   "metadata": {
    "ExecuteTime": {
     "end_time": "2021-01-23T13:05:08.017262Z",
     "start_time": "2021-01-23T13:05:07.982169Z"
    },
    "hidden": true
   },
   "outputs": [
    {
     "data": {
      "text/html": [
       "<div>\n",
       "<style scoped>\n",
       "    .dataframe tbody tr th:only-of-type {\n",
       "        vertical-align: middle;\n",
       "    }\n",
       "\n",
       "    .dataframe tbody tr th {\n",
       "        vertical-align: top;\n",
       "    }\n",
       "\n",
       "    .dataframe thead th {\n",
       "        text-align: right;\n",
       "    }\n",
       "</style>\n",
       "<table border=\"1\" class=\"dataframe\">\n",
       "  <thead>\n",
       "    <tr style=\"text-align: right;\">\n",
       "      <th></th>\n",
       "      <th>Case Number</th>\n",
       "      <th>Date</th>\n",
       "      <th>Year</th>\n",
       "      <th>Type</th>\n",
       "      <th>Country</th>\n",
       "      <th>Area</th>\n",
       "      <th>Location</th>\n",
       "      <th>Activity</th>\n",
       "      <th>Name</th>\n",
       "      <th>Sex</th>\n",
       "      <th>Age</th>\n",
       "      <th>Injury</th>\n",
       "      <th>Fatal (Y/N)</th>\n",
       "      <th>Time</th>\n",
       "      <th>Species</th>\n",
       "      <th>Investigator or Source</th>\n",
       "      <th>href</th>\n",
       "    </tr>\n",
       "  </thead>\n",
       "  <tbody>\n",
       "    <tr>\n",
       "      <th>6302</th>\n",
       "      <td>0</td>\n",
       "      <td>NaN</td>\n",
       "      <td>NaN</td>\n",
       "      <td>NaN</td>\n",
       "      <td>NaN</td>\n",
       "      <td>NaN</td>\n",
       "      <td>NaN</td>\n",
       "      <td>NaN</td>\n",
       "      <td>NaN</td>\n",
       "      <td>NaN</td>\n",
       "      <td>NaN</td>\n",
       "      <td>NaN</td>\n",
       "      <td>NaN</td>\n",
       "      <td>NaN</td>\n",
       "      <td>NaN</td>\n",
       "      <td>NaN</td>\n",
       "      <td>NaN</td>\n",
       "    </tr>\n",
       "    <tr>\n",
       "      <th>6303</th>\n",
       "      <td>0</td>\n",
       "      <td>NaN</td>\n",
       "      <td>NaN</td>\n",
       "      <td>NaN</td>\n",
       "      <td>NaN</td>\n",
       "      <td>NaN</td>\n",
       "      <td>NaN</td>\n",
       "      <td>NaN</td>\n",
       "      <td>NaN</td>\n",
       "      <td>NaN</td>\n",
       "      <td>NaN</td>\n",
       "      <td>NaN</td>\n",
       "      <td>NaN</td>\n",
       "      <td>NaN</td>\n",
       "      <td>NaN</td>\n",
       "      <td>NaN</td>\n",
       "      <td>NaN</td>\n",
       "    </tr>\n",
       "    <tr>\n",
       "      <th>6304</th>\n",
       "      <td>0</td>\n",
       "      <td>NaN</td>\n",
       "      <td>NaN</td>\n",
       "      <td>NaN</td>\n",
       "      <td>NaN</td>\n",
       "      <td>NaN</td>\n",
       "      <td>NaN</td>\n",
       "      <td>NaN</td>\n",
       "      <td>NaN</td>\n",
       "      <td>NaN</td>\n",
       "      <td>NaN</td>\n",
       "      <td>NaN</td>\n",
       "      <td>NaN</td>\n",
       "      <td>NaN</td>\n",
       "      <td>NaN</td>\n",
       "      <td>NaN</td>\n",
       "      <td>NaN</td>\n",
       "    </tr>\n",
       "    <tr>\n",
       "      <th>6305</th>\n",
       "      <td>0</td>\n",
       "      <td>NaN</td>\n",
       "      <td>NaN</td>\n",
       "      <td>NaN</td>\n",
       "      <td>NaN</td>\n",
       "      <td>NaN</td>\n",
       "      <td>NaN</td>\n",
       "      <td>NaN</td>\n",
       "      <td>NaN</td>\n",
       "      <td>NaN</td>\n",
       "      <td>NaN</td>\n",
       "      <td>NaN</td>\n",
       "      <td>NaN</td>\n",
       "      <td>NaN</td>\n",
       "      <td>NaN</td>\n",
       "      <td>NaN</td>\n",
       "      <td>NaN</td>\n",
       "    </tr>\n",
       "    <tr>\n",
       "      <th>6306</th>\n",
       "      <td>0</td>\n",
       "      <td>NaN</td>\n",
       "      <td>NaN</td>\n",
       "      <td>NaN</td>\n",
       "      <td>NaN</td>\n",
       "      <td>NaN</td>\n",
       "      <td>NaN</td>\n",
       "      <td>NaN</td>\n",
       "      <td>NaN</td>\n",
       "      <td>NaN</td>\n",
       "      <td>NaN</td>\n",
       "      <td>NaN</td>\n",
       "      <td>NaN</td>\n",
       "      <td>NaN</td>\n",
       "      <td>NaN</td>\n",
       "      <td>NaN</td>\n",
       "      <td>NaN</td>\n",
       "    </tr>\n",
       "    <tr>\n",
       "      <th>...</th>\n",
       "      <td>...</td>\n",
       "      <td>...</td>\n",
       "      <td>...</td>\n",
       "      <td>...</td>\n",
       "      <td>...</td>\n",
       "      <td>...</td>\n",
       "      <td>...</td>\n",
       "      <td>...</td>\n",
       "      <td>...</td>\n",
       "      <td>...</td>\n",
       "      <td>...</td>\n",
       "      <td>...</td>\n",
       "      <td>...</td>\n",
       "      <td>...</td>\n",
       "      <td>...</td>\n",
       "      <td>...</td>\n",
       "      <td>...</td>\n",
       "    </tr>\n",
       "    <tr>\n",
       "      <th>25718</th>\n",
       "      <td>NaN</td>\n",
       "      <td>NaN</td>\n",
       "      <td>NaN</td>\n",
       "      <td>NaN</td>\n",
       "      <td>NaN</td>\n",
       "      <td>NaN</td>\n",
       "      <td>NaN</td>\n",
       "      <td>NaN</td>\n",
       "      <td>NaN</td>\n",
       "      <td>NaN</td>\n",
       "      <td>NaN</td>\n",
       "      <td>NaN</td>\n",
       "      <td>NaN</td>\n",
       "      <td>NaN</td>\n",
       "      <td>NaN</td>\n",
       "      <td>NaN</td>\n",
       "      <td>NaN</td>\n",
       "    </tr>\n",
       "    <tr>\n",
       "      <th>25719</th>\n",
       "      <td>NaN</td>\n",
       "      <td>NaN</td>\n",
       "      <td>NaN</td>\n",
       "      <td>NaN</td>\n",
       "      <td>NaN</td>\n",
       "      <td>NaN</td>\n",
       "      <td>NaN</td>\n",
       "      <td>NaN</td>\n",
       "      <td>NaN</td>\n",
       "      <td>NaN</td>\n",
       "      <td>NaN</td>\n",
       "      <td>NaN</td>\n",
       "      <td>NaN</td>\n",
       "      <td>NaN</td>\n",
       "      <td>NaN</td>\n",
       "      <td>NaN</td>\n",
       "      <td>NaN</td>\n",
       "    </tr>\n",
       "    <tr>\n",
       "      <th>25720</th>\n",
       "      <td>NaN</td>\n",
       "      <td>NaN</td>\n",
       "      <td>NaN</td>\n",
       "      <td>NaN</td>\n",
       "      <td>NaN</td>\n",
       "      <td>NaN</td>\n",
       "      <td>NaN</td>\n",
       "      <td>NaN</td>\n",
       "      <td>NaN</td>\n",
       "      <td>NaN</td>\n",
       "      <td>NaN</td>\n",
       "      <td>NaN</td>\n",
       "      <td>NaN</td>\n",
       "      <td>NaN</td>\n",
       "      <td>NaN</td>\n",
       "      <td>NaN</td>\n",
       "      <td>NaN</td>\n",
       "    </tr>\n",
       "    <tr>\n",
       "      <th>25721</th>\n",
       "      <td>NaN</td>\n",
       "      <td>NaN</td>\n",
       "      <td>NaN</td>\n",
       "      <td>NaN</td>\n",
       "      <td>NaN</td>\n",
       "      <td>NaN</td>\n",
       "      <td>NaN</td>\n",
       "      <td>NaN</td>\n",
       "      <td>NaN</td>\n",
       "      <td>NaN</td>\n",
       "      <td>NaN</td>\n",
       "      <td>NaN</td>\n",
       "      <td>NaN</td>\n",
       "      <td>NaN</td>\n",
       "      <td>NaN</td>\n",
       "      <td>NaN</td>\n",
       "      <td>NaN</td>\n",
       "    </tr>\n",
       "    <tr>\n",
       "      <th>25722</th>\n",
       "      <td>xx</td>\n",
       "      <td>NaN</td>\n",
       "      <td>NaN</td>\n",
       "      <td>NaN</td>\n",
       "      <td>NaN</td>\n",
       "      <td>NaN</td>\n",
       "      <td>NaN</td>\n",
       "      <td>NaN</td>\n",
       "      <td>NaN</td>\n",
       "      <td>NaN</td>\n",
       "      <td>NaN</td>\n",
       "      <td>NaN</td>\n",
       "      <td>NaN</td>\n",
       "      <td>NaN</td>\n",
       "      <td>NaN</td>\n",
       "      <td>NaN</td>\n",
       "      <td>NaN</td>\n",
       "    </tr>\n",
       "  </tbody>\n",
       "</table>\n",
       "<p>19421 rows × 17 columns</p>\n",
       "</div>"
      ],
      "text/plain": [
       "      Case Number Date  Year Type Country Area Location Activity Name Sex   \\\n",
       "6302            0  NaN   NaN  NaN     NaN  NaN      NaN      NaN  NaN  NaN   \n",
       "6303            0  NaN   NaN  NaN     NaN  NaN      NaN      NaN  NaN  NaN   \n",
       "6304            0  NaN   NaN  NaN     NaN  NaN      NaN      NaN  NaN  NaN   \n",
       "6305            0  NaN   NaN  NaN     NaN  NaN      NaN      NaN  NaN  NaN   \n",
       "6306            0  NaN   NaN  NaN     NaN  NaN      NaN      NaN  NaN  NaN   \n",
       "...           ...  ...   ...  ...     ...  ...      ...      ...  ...  ...   \n",
       "25718         NaN  NaN   NaN  NaN     NaN  NaN      NaN      NaN  NaN  NaN   \n",
       "25719         NaN  NaN   NaN  NaN     NaN  NaN      NaN      NaN  NaN  NaN   \n",
       "25720         NaN  NaN   NaN  NaN     NaN  NaN      NaN      NaN  NaN  NaN   \n",
       "25721         NaN  NaN   NaN  NaN     NaN  NaN      NaN      NaN  NaN  NaN   \n",
       "25722          xx  NaN   NaN  NaN     NaN  NaN      NaN      NaN  NaN  NaN   \n",
       "\n",
       "       Age Injury Fatal (Y/N) Time Species  Investigator or Source href  \n",
       "6302   NaN    NaN         NaN  NaN      NaN                    NaN  NaN  \n",
       "6303   NaN    NaN         NaN  NaN      NaN                    NaN  NaN  \n",
       "6304   NaN    NaN         NaN  NaN      NaN                    NaN  NaN  \n",
       "6305   NaN    NaN         NaN  NaN      NaN                    NaN  NaN  \n",
       "6306   NaN    NaN         NaN  NaN      NaN                    NaN  NaN  \n",
       "...    ...    ...         ...  ...      ...                    ...  ...  \n",
       "25718  NaN    NaN         NaN  NaN      NaN                    NaN  NaN  \n",
       "25719  NaN    NaN         NaN  NaN      NaN                    NaN  NaN  \n",
       "25720  NaN    NaN         NaN  NaN      NaN                    NaN  NaN  \n",
       "25721  NaN    NaN         NaN  NaN      NaN                    NaN  NaN  \n",
       "25722  NaN    NaN         NaN  NaN      NaN                    NaN  NaN  \n",
       "\n",
       "[19421 rows x 17 columns]"
      ]
     },
     "execution_count": 58,
     "metadata": {},
     "output_type": "execute_result"
    }
   ],
   "source": [
    "db.loc[null_mask.index]"
   ]
  },
  {
   "cell_type": "code",
   "execution_count": 69,
   "metadata": {
    "ExecuteTime": {
     "end_time": "2021-01-23T13:18:22.467844Z",
     "start_time": "2021-01-23T13:18:22.460825Z"
    },
    "hidden": true
   },
   "outputs": [
    {
     "data": {
      "text/plain": [
       "2015.0    143\n",
       "2017.0    136\n",
       "2016.0    130\n",
       "2011.0    128\n",
       "2014.0    127\n",
       "         ... \n",
       "1801.0      1\n",
       "1638.0      1\n",
       "1834.0      1\n",
       "1723.0      1\n",
       "1786.0      1\n",
       "Name: Year, Length: 249, dtype: int64"
      ]
     },
     "execution_count": 69,
     "metadata": {},
     "output_type": "execute_result"
    }
   ],
   "source": [
    "db['Year'].value_counts()"
   ]
  },
  {
   "cell_type": "markdown",
   "metadata": {
    "hidden": true
   },
   "source": [
    "## Evaluating numbers in the 'age' column"
   ]
  },
  {
   "cell_type": "code",
   "execution_count": 70,
   "metadata": {
    "ExecuteTime": {
     "end_time": "2021-01-23T13:19:35.198739Z",
     "start_time": "2021-01-23T13:19:35.191220Z"
    },
    "hidden": true
   },
   "outputs": [
    {
     "data": {
      "text/plain": [
       "17              154\n",
       "18              150\n",
       "19              142\n",
       "20              141\n",
       "15              139\n",
       "               ... \n",
       "(adult)           1\n",
       "9 months          1\n",
       "17 & 35           1\n",
       "9 or 10           1\n",
       "\"middle-age\"      1\n",
       "Name: Age, Length: 157, dtype: int64"
      ]
     },
     "execution_count": 70,
     "metadata": {},
     "output_type": "execute_result"
    }
   ],
   "source": [
    "db['Age'].value_counts()"
   ]
  },
  {
   "cell_type": "code",
   "execution_count": 182,
   "metadata": {
    "ExecuteTime": {
     "end_time": "2021-01-24T14:07:08.775964Z",
     "start_time": "2021-01-24T14:07:08.762929Z"
    },
    "hidden": true
   },
   "outputs": [],
   "source": [
    "def isnum_pandas(number):\n",
    "    len_num = re.findall('[^0-9][0-9]{1,2}', str(number))\n",
    "    if len(len_num) > 0:\n",
    "        if len(len_num[0]) > 2:\n",
    "            return False\n",
    "        else:\n",
    "            return True\n",
    "    else:\n",
    "        return False\n",
    "age_str = db.Age.apply(isnum_pandas)"
   ]
  },
  {
   "cell_type": "code",
   "execution_count": 184,
   "metadata": {
    "ExecuteTime": {
     "end_time": "2021-01-24T14:07:48.777669Z",
     "start_time": "2021-01-24T14:07:48.770650Z"
    },
    "hidden": true
   },
   "outputs": [
    {
     "data": {
      "text/plain": [
       "7 or 8           2\n",
       "2 to 3 months    1\n",
       "Name: Age, dtype: int64"
      ]
     },
     "execution_count": 184,
     "metadata": {},
     "output_type": "execute_result"
    }
   ],
   "source": [
    "db.Age[age_str].value_counts() "
   ]
  },
  {
   "cell_type": "code",
   "execution_count": 143,
   "metadata": {
    "ExecuteTime": {
     "end_time": "2021-01-24T12:44:23.692237Z",
     "start_time": "2021-01-24T12:44:23.686219Z"
    },
    "hidden": true
   },
   "outputs": [
    {
     "data": {
      "text/plain": [
       "0        True\n",
       "1        True\n",
       "2        True\n",
       "3       False\n",
       "4       False\n",
       "        ...  \n",
       "6297    False\n",
       "6298    False\n",
       "6299    False\n",
       "6300    False\n",
       "6301     True\n",
       "Name: Age, Length: 6302, dtype: bool"
      ]
     },
     "execution_count": 143,
     "metadata": {},
     "output_type": "execute_result"
    }
   ],
   "source": [
    "age_str"
   ]
  },
  {
   "cell_type": "code",
   "execution_count": 174,
   "metadata": {
    "ExecuteTime": {
     "end_time": "2021-01-24T13:56:11.483632Z",
     "start_time": "2021-01-24T13:56:11.480623Z"
    },
    "hidden": true
   },
   "outputs": [],
   "source": [
    "def del_str(value):\n",
    "    len_num = re.findall('[0-9]{1,2}', str(value))\n",
    "    value = len_num[0]\n",
    "    return value"
   ]
  },
  {
   "cell_type": "code",
   "execution_count": 175,
   "metadata": {
    "ExecuteTime": {
     "end_time": "2021-01-24T13:56:13.500122Z",
     "start_time": "2021-01-24T13:56:13.473049Z"
    },
    "hidden": true
   },
   "outputs": [
    {
     "ename": "KeyError",
     "evalue": "'0'",
     "output_type": "error",
     "traceback": [
      "\u001b[1;31m---------------------------------------------------------------------------\u001b[0m",
      "\u001b[1;31mKeyError\u001b[0m                                  Traceback (most recent call last)",
      "\u001b[1;32m<ipython-input-175-afceebc80423>\u001b[0m in \u001b[0;36m<module>\u001b[1;34m\u001b[0m\n\u001b[0;32m      1\u001b[0m \u001b[0mage_1\u001b[0m \u001b[1;33m=\u001b[0m \u001b[0mdb\u001b[0m\u001b[1;33m.\u001b[0m\u001b[0mAge\u001b[0m\u001b[1;33m[\u001b[0m\u001b[0mage_str\u001b[0m\u001b[1;33m]\u001b[0m\u001b[1;33m\u001b[0m\u001b[1;33m\u001b[0m\u001b[0m\n\u001b[1;32m----> 2\u001b[1;33m \u001b[0mage2\u001b[0m \u001b[1;33m=\u001b[0m \u001b[0mage_1\u001b[0m\u001b[1;33m[\u001b[0m\u001b[0mdel_str\u001b[0m\u001b[1;33m]\u001b[0m\u001b[1;33m\u001b[0m\u001b[1;33m\u001b[0m\u001b[0m\n\u001b[0m",
      "\u001b[1;32m~\\Anaconda3\\lib\\site-packages\\pandas\\core\\series.py\u001b[0m in \u001b[0;36m__getitem__\u001b[1;34m(self, key)\u001b[0m\n\u001b[0;32m    869\u001b[0m         \u001b[0mkey\u001b[0m \u001b[1;33m=\u001b[0m \u001b[0mcom\u001b[0m\u001b[1;33m.\u001b[0m\u001b[0mapply_if_callable\u001b[0m\u001b[1;33m(\u001b[0m\u001b[0mkey\u001b[0m\u001b[1;33m,\u001b[0m \u001b[0mself\u001b[0m\u001b[1;33m)\u001b[0m\u001b[1;33m\u001b[0m\u001b[1;33m\u001b[0m\u001b[0m\n\u001b[0;32m    870\u001b[0m         \u001b[1;32mtry\u001b[0m\u001b[1;33m:\u001b[0m\u001b[1;33m\u001b[0m\u001b[1;33m\u001b[0m\u001b[0m\n\u001b[1;32m--> 871\u001b[1;33m             \u001b[0mresult\u001b[0m \u001b[1;33m=\u001b[0m \u001b[0mself\u001b[0m\u001b[1;33m.\u001b[0m\u001b[0mindex\u001b[0m\u001b[1;33m.\u001b[0m\u001b[0mget_value\u001b[0m\u001b[1;33m(\u001b[0m\u001b[0mself\u001b[0m\u001b[1;33m,\u001b[0m \u001b[0mkey\u001b[0m\u001b[1;33m)\u001b[0m\u001b[1;33m\u001b[0m\u001b[1;33m\u001b[0m\u001b[0m\n\u001b[0m\u001b[0;32m    872\u001b[0m \u001b[1;33m\u001b[0m\u001b[0m\n\u001b[0;32m    873\u001b[0m             \u001b[1;32mif\u001b[0m \u001b[1;32mnot\u001b[0m \u001b[0mis_scalar\u001b[0m\u001b[1;33m(\u001b[0m\u001b[0mresult\u001b[0m\u001b[1;33m)\u001b[0m\u001b[1;33m:\u001b[0m\u001b[1;33m\u001b[0m\u001b[1;33m\u001b[0m\u001b[0m\n",
      "\u001b[1;32m~\\Anaconda3\\lib\\site-packages\\pandas\\core\\indexes\\base.py\u001b[0m in \u001b[0;36mget_value\u001b[1;34m(self, series, key)\u001b[0m\n\u001b[0;32m   4403\u001b[0m         \u001b[0mk\u001b[0m \u001b[1;33m=\u001b[0m \u001b[0mself\u001b[0m\u001b[1;33m.\u001b[0m\u001b[0m_convert_scalar_indexer\u001b[0m\u001b[1;33m(\u001b[0m\u001b[0mk\u001b[0m\u001b[1;33m,\u001b[0m \u001b[0mkind\u001b[0m\u001b[1;33m=\u001b[0m\u001b[1;34m\"getitem\"\u001b[0m\u001b[1;33m)\u001b[0m\u001b[1;33m\u001b[0m\u001b[1;33m\u001b[0m\u001b[0m\n\u001b[0;32m   4404\u001b[0m         \u001b[1;32mtry\u001b[0m\u001b[1;33m:\u001b[0m\u001b[1;33m\u001b[0m\u001b[1;33m\u001b[0m\u001b[0m\n\u001b[1;32m-> 4405\u001b[1;33m             \u001b[1;32mreturn\u001b[0m \u001b[0mself\u001b[0m\u001b[1;33m.\u001b[0m\u001b[0m_engine\u001b[0m\u001b[1;33m.\u001b[0m\u001b[0mget_value\u001b[0m\u001b[1;33m(\u001b[0m\u001b[0ms\u001b[0m\u001b[1;33m,\u001b[0m \u001b[0mk\u001b[0m\u001b[1;33m,\u001b[0m \u001b[0mtz\u001b[0m\u001b[1;33m=\u001b[0m\u001b[0mgetattr\u001b[0m\u001b[1;33m(\u001b[0m\u001b[0mseries\u001b[0m\u001b[1;33m.\u001b[0m\u001b[0mdtype\u001b[0m\u001b[1;33m,\u001b[0m \u001b[1;34m\"tz\"\u001b[0m\u001b[1;33m,\u001b[0m \u001b[1;32mNone\u001b[0m\u001b[1;33m)\u001b[0m\u001b[1;33m)\u001b[0m\u001b[1;33m\u001b[0m\u001b[1;33m\u001b[0m\u001b[0m\n\u001b[0m\u001b[0;32m   4406\u001b[0m         \u001b[1;32mexcept\u001b[0m \u001b[0mKeyError\u001b[0m \u001b[1;32mas\u001b[0m \u001b[0me1\u001b[0m\u001b[1;33m:\u001b[0m\u001b[1;33m\u001b[0m\u001b[1;33m\u001b[0m\u001b[0m\n\u001b[0;32m   4407\u001b[0m             \u001b[1;32mif\u001b[0m \u001b[0mlen\u001b[0m\u001b[1;33m(\u001b[0m\u001b[0mself\u001b[0m\u001b[1;33m)\u001b[0m \u001b[1;33m>\u001b[0m \u001b[1;36m0\u001b[0m \u001b[1;32mand\u001b[0m \u001b[1;33m(\u001b[0m\u001b[0mself\u001b[0m\u001b[1;33m.\u001b[0m\u001b[0mholds_integer\u001b[0m\u001b[1;33m(\u001b[0m\u001b[1;33m)\u001b[0m \u001b[1;32mor\u001b[0m \u001b[0mself\u001b[0m\u001b[1;33m.\u001b[0m\u001b[0mis_boolean\u001b[0m\u001b[1;33m(\u001b[0m\u001b[1;33m)\u001b[0m\u001b[1;33m)\u001b[0m\u001b[1;33m:\u001b[0m\u001b[1;33m\u001b[0m\u001b[1;33m\u001b[0m\u001b[0m\n",
      "\u001b[1;32mpandas\\_libs\\index.pyx\u001b[0m in \u001b[0;36mpandas._libs.index.IndexEngine.get_value\u001b[1;34m()\u001b[0m\n",
      "\u001b[1;32mpandas\\_libs\\index.pyx\u001b[0m in \u001b[0;36mpandas._libs.index.IndexEngine.get_value\u001b[1;34m()\u001b[0m\n",
      "\u001b[1;32mpandas\\_libs\\index.pyx\u001b[0m in \u001b[0;36mpandas._libs.index.IndexEngine.get_loc\u001b[1;34m()\u001b[0m\n",
      "\u001b[1;32mpandas\\_libs\\index_class_helper.pxi\u001b[0m in \u001b[0;36mpandas._libs.index.Int64Engine._check_type\u001b[1;34m()\u001b[0m\n",
      "\u001b[1;31mKeyError\u001b[0m: '0'"
     ]
    }
   ],
   "source": [
    "age_1 = db.Age[age_str]\n",
    "age2 = age_1[del_str]"
   ]
  },
  {
   "cell_type": "code",
   "execution_count": null,
   "metadata": {
    "hidden": true
   },
   "outputs": [],
   "source": [
    "for mean_age"
   ]
  },
  {
   "cell_type": "code",
   "execution_count": 193,
   "metadata": {
    "ExecuteTime": {
     "end_time": "2021-01-24T14:18:17.527620Z",
     "start_time": "2021-01-24T14:18:17.516592Z"
    },
    "hidden": true
   },
   "outputs": [
    {
     "ename": "IndexError",
     "evalue": "list index out of range",
     "output_type": "error",
     "traceback": [
      "\u001b[1;31m---------------------------------------------------------------------------\u001b[0m",
      "\u001b[1;31mIndexError\u001b[0m                                Traceback (most recent call last)",
      "\u001b[1;32m<ipython-input-193-d0f81a2e7da2>\u001b[0m in \u001b[0;36m<module>\u001b[1;34m\u001b[0m\n\u001b[0;32m      2\u001b[0m \u001b[0mtest\u001b[0m \u001b[1;33m=\u001b[0m \u001b[0mre\u001b[0m\u001b[1;33m.\u001b[0m\u001b[0mfindall\u001b[0m\u001b[1;33m(\u001b[0m\u001b[1;34m'[^0-9]'\u001b[0m\u001b[1;34m'[0-9]{1,2}'\u001b[0m\u001b[1;33m,\u001b[0m \u001b[0mtxt\u001b[0m\u001b[1;33m)\u001b[0m\u001b[1;33m\u001b[0m\u001b[1;33m\u001b[0m\u001b[0m\n\u001b[0;32m      3\u001b[0m \u001b[0mlen\u001b[0m\u001b[1;33m(\u001b[0m\u001b[0mtest\u001b[0m\u001b[1;33m)\u001b[0m\u001b[1;33m\u001b[0m\u001b[1;33m\u001b[0m\u001b[0m\n\u001b[1;32m----> 4\u001b[1;33m \u001b[0mlen\u001b[0m\u001b[1;33m(\u001b[0m\u001b[0mtest\u001b[0m\u001b[1;33m[\u001b[0m\u001b[1;36m0\u001b[0m\u001b[1;33m]\u001b[0m\u001b[1;33m)\u001b[0m\u001b[1;33m\u001b[0m\u001b[1;33m\u001b[0m\u001b[0m\n\u001b[0m\u001b[0;32m      5\u001b[0m \u001b[0mtest\u001b[0m\u001b[1;33m\u001b[0m\u001b[1;33m\u001b[0m\u001b[0m\n\u001b[0;32m      6\u001b[0m \u001b[0mtest\u001b[0m \u001b[1;33m=\u001b[0m \u001b[0mre\u001b[0m\u001b[1;33m.\u001b[0m\u001b[0mfindall\u001b[0m\u001b[1;33m(\u001b[0m\u001b[1;34m'[^0-9][0-9]{1,2}'\u001b[0m\u001b[1;33m,\u001b[0m \u001b[0mtxt\u001b[0m\u001b[1;33m)\u001b[0m\u001b[1;33m\u001b[0m\u001b[1;33m\u001b[0m\u001b[0m\n",
      "\u001b[1;31mIndexError\u001b[0m: list index out of range"
     ]
    }
   ],
   "source": [
    "txt = '11'\n",
    "test = re.findall('[^0-9]''[0-9]{1,2}', txt)\n",
    "len(test)\n",
    "len(test[0])\n",
    "test\n",
    "test = re.findall('[^0-9][0-9]{1,2}', txt)\n"
   ]
  },
  {
   "cell_type": "markdown",
   "metadata": {
    "heading_collapsed": true,
    "hidden": true
   },
   "source": [
    "## Evaluating the date column"
   ]
  },
  {
   "cell_type": "code",
   "execution_count": 279,
   "metadata": {
    "ExecuteTime": {
     "end_time": "2021-01-25T12:18:48.587187Z",
     "start_time": "2021-01-25T12:18:48.583176Z"
    },
    "hidden": true
   },
   "outputs": [
    {
     "data": {
      "text/plain": [
       "'09-Jun-2018'"
      ]
     },
     "execution_count": 279,
     "metadata": {},
     "output_type": "execute_result"
    }
   ],
   "source": [
    "db2.loc[2, 'Date']"
   ]
  },
  {
   "cell_type": "code",
   "execution_count": null,
   "metadata": {
    "hidden": true
   },
   "outputs": [],
   "source": [
    "def return_month(d):\n",
    "    date_input = re.findall('[a-zA-Z][a-zA-Z][a-zA-Z]', d)\n",
    "    if len(date_input) == 1:\n",
    "        return True\n",
    "    "
   ]
  },
  {
   "cell_type": "code",
   "execution_count": 288,
   "metadata": {
    "ExecuteTime": {
     "end_time": "2021-01-25T12:29:49.846942Z",
     "start_time": "2021-01-25T12:29:49.842931Z"
    },
    "hidden": true
   },
   "outputs": [
    {
     "data": {
      "text/plain": [
       "1"
      ]
     },
     "execution_count": 288,
     "metadata": {},
     "output_type": "execute_result"
    }
   ],
   "source": [
    "date_test = '09-Jun-2018'\n",
    "date_test2 = re.findall('[a-zA-Z][a-zA-Z][a-zA-Z]', date_test)\n",
    "len(date_test2)"
   ]
  },
  {
   "cell_type": "markdown",
   "metadata": {
    "heading_collapsed": true
   },
   "source": [
    "# Data Cleaning"
   ]
  },
  {
   "cell_type": "markdown",
   "metadata": {
    "heading_collapsed": true,
    "hidden": true
   },
   "source": [
    "## Columns Drop"
   ]
  },
  {
   "cell_type": "code",
   "execution_count": 15,
   "metadata": {
    "ExecuteTime": {
     "end_time": "2021-01-23T12:10:27.744523Z",
     "start_time": "2021-01-23T12:10:27.733996Z"
    },
    "hidden": true
   },
   "outputs": [],
   "source": [
    "db = db.drop(columns=['Unnamed: 22', 'Unnamed: 23'])"
   ]
  },
  {
   "cell_type": "code",
   "execution_count": 42,
   "metadata": {
    "ExecuteTime": {
     "end_time": "2021-01-23T12:46:24.415113Z",
     "start_time": "2021-01-23T12:46:24.398068Z"
    },
    "hidden": true
   },
   "outputs": [
    {
     "data": {
      "text/html": [
       "<div>\n",
       "<style scoped>\n",
       "    .dataframe tbody tr th:only-of-type {\n",
       "        vertical-align: middle;\n",
       "    }\n",
       "\n",
       "    .dataframe tbody tr th {\n",
       "        vertical-align: top;\n",
       "    }\n",
       "\n",
       "    .dataframe thead th {\n",
       "        text-align: right;\n",
       "    }\n",
       "</style>\n",
       "<table border=\"1\" class=\"dataframe\">\n",
       "  <thead>\n",
       "    <tr style=\"text-align: right;\">\n",
       "      <th></th>\n",
       "      <th>Case Number</th>\n",
       "      <th>Date</th>\n",
       "      <th>Year</th>\n",
       "      <th>Type</th>\n",
       "      <th>Country</th>\n",
       "      <th>Area</th>\n",
       "      <th>Location</th>\n",
       "      <th>Activity</th>\n",
       "      <th>Name</th>\n",
       "      <th>Sex</th>\n",
       "      <th>Age</th>\n",
       "      <th>Injury</th>\n",
       "      <th>Fatal (Y/N)</th>\n",
       "      <th>Time</th>\n",
       "      <th>Species</th>\n",
       "      <th>Investigator or Source</th>\n",
       "      <th>href</th>\n",
       "    </tr>\n",
       "  </thead>\n",
       "  <tbody>\n",
       "    <tr>\n",
       "      <th>0</th>\n",
       "      <td>2018.06.25</td>\n",
       "      <td>25-Jun-2018</td>\n",
       "      <td>2018.0</td>\n",
       "      <td>Boating</td>\n",
       "      <td>USA</td>\n",
       "      <td>California</td>\n",
       "      <td>Oceanside, San Diego County</td>\n",
       "      <td>Paddling</td>\n",
       "      <td>Julie Wolfe</td>\n",
       "      <td>F</td>\n",
       "      <td>57</td>\n",
       "      <td>No injury to occupant, outrigger canoe and pad...</td>\n",
       "      <td>N</td>\n",
       "      <td>18h00</td>\n",
       "      <td>White shark</td>\n",
       "      <td>R. Collier, GSAF</td>\n",
       "      <td>http://sharkattackfile.net/spreadsheets/pdf_di...</td>\n",
       "    </tr>\n",
       "    <tr>\n",
       "      <th>1</th>\n",
       "      <td>2018.06.18</td>\n",
       "      <td>18-Jun-2018</td>\n",
       "      <td>2018.0</td>\n",
       "      <td>Unprovoked</td>\n",
       "      <td>USA</td>\n",
       "      <td>Georgia</td>\n",
       "      <td>St. Simon Island, Glynn County</td>\n",
       "      <td>Standing</td>\n",
       "      <td>Adyson McNeely</td>\n",
       "      <td>F</td>\n",
       "      <td>11</td>\n",
       "      <td>Minor injury to left thigh</td>\n",
       "      <td>N</td>\n",
       "      <td>14h00  -15h00</td>\n",
       "      <td>NaN</td>\n",
       "      <td>K.McMurray, TrackingSharks.com</td>\n",
       "      <td>http://sharkattackfile.net/spreadsheets/pdf_di...</td>\n",
       "    </tr>\n",
       "    <tr>\n",
       "      <th>2</th>\n",
       "      <td>2018.06.09</td>\n",
       "      <td>09-Jun-2018</td>\n",
       "      <td>2018.0</td>\n",
       "      <td>Invalid</td>\n",
       "      <td>USA</td>\n",
       "      <td>Hawaii</td>\n",
       "      <td>Habush, Oahu</td>\n",
       "      <td>Surfing</td>\n",
       "      <td>John Denges</td>\n",
       "      <td>M</td>\n",
       "      <td>48</td>\n",
       "      <td>Injury to left lower leg from surfboard skeg</td>\n",
       "      <td>N</td>\n",
       "      <td>07h45</td>\n",
       "      <td>NaN</td>\n",
       "      <td>K.McMurray, TrackingSharks.com</td>\n",
       "      <td>http://sharkattackfile.net/spreadsheets/pdf_di...</td>\n",
       "    </tr>\n",
       "  </tbody>\n",
       "</table>\n",
       "</div>"
      ],
      "text/plain": [
       "  Case Number         Date    Year        Type Country        Area  \\\n",
       "0  2018.06.25  25-Jun-2018  2018.0     Boating     USA  California   \n",
       "1  2018.06.18  18-Jun-2018  2018.0  Unprovoked     USA     Georgia   \n",
       "2  2018.06.09  09-Jun-2018  2018.0     Invalid     USA      Hawaii   \n",
       "\n",
       "                         Location  Activity             Name Sex  Age  \\\n",
       "0     Oceanside, San Diego County  Paddling      Julie Wolfe    F  57   \n",
       "1  St. Simon Island, Glynn County  Standing  Adyson McNeely     F  11   \n",
       "2                    Habush, Oahu   Surfing      John Denges    M  48   \n",
       "\n",
       "                                              Injury Fatal (Y/N)  \\\n",
       "0  No injury to occupant, outrigger canoe and pad...           N   \n",
       "1                         Minor injury to left thigh           N   \n",
       "2       Injury to left lower leg from surfboard skeg           N   \n",
       "\n",
       "            Time     Species           Investigator or Source  \\\n",
       "0          18h00  White shark                R. Collier, GSAF   \n",
       "1  14h00  -15h00          NaN  K.McMurray, TrackingSharks.com   \n",
       "2          07h45          NaN  K.McMurray, TrackingSharks.com   \n",
       "\n",
       "                                                href  \n",
       "0  http://sharkattackfile.net/spreadsheets/pdf_di...  \n",
       "1  http://sharkattackfile.net/spreadsheets/pdf_di...  \n",
       "2  http://sharkattackfile.net/spreadsheets/pdf_di...  "
      ]
     },
     "execution_count": 42,
     "metadata": {},
     "output_type": "execute_result"
    }
   ],
   "source": [
    "db.head(3)"
   ]
  },
  {
   "cell_type": "code",
   "execution_count": 27,
   "metadata": {
    "ExecuteTime": {
     "end_time": "2021-01-23T12:20:44.088464Z",
     "start_time": "2021-01-23T12:20:44.078437Z"
    },
    "hidden": true
   },
   "outputs": [],
   "source": [
    "db = db.drop(columns=['Case Number.1', 'Case Number.2'])"
   ]
  },
  {
   "cell_type": "code",
   "execution_count": 30,
   "metadata": {
    "ExecuteTime": {
     "end_time": "2021-01-23T12:25:12.465446Z",
     "start_time": "2021-01-23T12:25:12.454917Z"
    },
    "hidden": true
   },
   "outputs": [],
   "source": [
    "db = db.drop(columns=['original order'])"
   ]
  },
  {
   "cell_type": "code",
   "execution_count": 39,
   "metadata": {
    "ExecuteTime": {
     "end_time": "2021-01-23T12:45:21.575012Z",
     "start_time": "2021-01-23T12:45:21.565487Z"
    },
    "hidden": true
   },
   "outputs": [],
   "source": [
    "db = db.drop(columns=['href formula'])"
   ]
  },
  {
   "cell_type": "code",
   "execution_count": 41,
   "metadata": {
    "ExecuteTime": {
     "end_time": "2021-01-23T12:46:21.384054Z",
     "start_time": "2021-01-23T12:46:21.375030Z"
    },
    "hidden": true
   },
   "outputs": [],
   "source": [
    "db = db.drop(columns=['pdf'])"
   ]
  },
  {
   "cell_type": "markdown",
   "metadata": {
    "heading_collapsed": true,
    "hidden": true
   },
   "source": [
    "## Drop null rows"
   ]
  },
  {
   "cell_type": "code",
   "execution_count": 64,
   "metadata": {
    "ExecuteTime": {
     "end_time": "2021-01-23T13:08:18.985047Z",
     "start_time": "2021-01-23T13:08:18.966497Z"
    },
    "hidden": true
   },
   "outputs": [
    {
     "name": "stdout",
     "output_type": "stream",
     "text": [
      "<class 'pandas.core.frame.DataFrame'>\n",
      "Int64Index: 6302 entries, 0 to 6301\n",
      "Data columns (total 17 columns):\n",
      " #   Column                  Non-Null Count  Dtype  \n",
      "---  ------                  --------------  -----  \n",
      " 0   Case Number             6301 non-null   object \n",
      " 1   Date                    6302 non-null   object \n",
      " 2   Year                    6300 non-null   float64\n",
      " 3   Type                    6298 non-null   object \n",
      " 4   Country                 6252 non-null   object \n",
      " 5   Area                    5847 non-null   object \n",
      " 6   Location                5762 non-null   object \n",
      " 7   Activity                5758 non-null   object \n",
      " 8   Name                    6092 non-null   object \n",
      " 9   Sex                     5737 non-null   object \n",
      " 10  Age                     3471 non-null   object \n",
      " 11  Injury                  6274 non-null   object \n",
      " 12  Fatal (Y/N)             5763 non-null   object \n",
      " 13  Time                    2948 non-null   object \n",
      " 14  Species                 3464 non-null   object \n",
      " 15  Investigator or Source  6285 non-null   object \n",
      " 16  href                    6302 non-null   object \n",
      "dtypes: float64(1), object(16)\n",
      "memory usage: 1.0+ MB\n"
     ]
    }
   ],
   "source": [
    "db.info()"
   ]
  },
  {
   "cell_type": "code",
   "execution_count": 65,
   "metadata": {
    "ExecuteTime": {
     "end_time": "2021-01-23T13:09:12.161950Z",
     "start_time": "2021-01-23T13:09:12.140393Z"
    },
    "hidden": true
   },
   "outputs": [
    {
     "data": {
      "text/html": [
       "<div>\n",
       "<style scoped>\n",
       "    .dataframe tbody tr th:only-of-type {\n",
       "        vertical-align: middle;\n",
       "    }\n",
       "\n",
       "    .dataframe tbody tr th {\n",
       "        vertical-align: top;\n",
       "    }\n",
       "\n",
       "    .dataframe thead th {\n",
       "        text-align: right;\n",
       "    }\n",
       "</style>\n",
       "<table border=\"1\" class=\"dataframe\">\n",
       "  <thead>\n",
       "    <tr style=\"text-align: right;\">\n",
       "      <th></th>\n",
       "      <th>Case Number</th>\n",
       "      <th>Date</th>\n",
       "      <th>Year</th>\n",
       "      <th>Type</th>\n",
       "      <th>Country</th>\n",
       "      <th>Area</th>\n",
       "      <th>Location</th>\n",
       "      <th>Activity</th>\n",
       "      <th>Name</th>\n",
       "      <th>Sex</th>\n",
       "      <th>Age</th>\n",
       "      <th>Injury</th>\n",
       "      <th>Fatal (Y/N)</th>\n",
       "      <th>Time</th>\n",
       "      <th>Species</th>\n",
       "      <th>Investigator or Source</th>\n",
       "      <th>href</th>\n",
       "    </tr>\n",
       "  </thead>\n",
       "  <tbody>\n",
       "    <tr>\n",
       "      <th>0</th>\n",
       "      <td>2018.06.25</td>\n",
       "      <td>25-Jun-2018</td>\n",
       "      <td>2018.0</td>\n",
       "      <td>Boating</td>\n",
       "      <td>USA</td>\n",
       "      <td>California</td>\n",
       "      <td>Oceanside, San Diego County</td>\n",
       "      <td>Paddling</td>\n",
       "      <td>Julie Wolfe</td>\n",
       "      <td>F</td>\n",
       "      <td>57</td>\n",
       "      <td>No injury to occupant, outrigger canoe and pad...</td>\n",
       "      <td>N</td>\n",
       "      <td>18h00</td>\n",
       "      <td>White shark</td>\n",
       "      <td>R. Collier, GSAF</td>\n",
       "      <td>http://sharkattackfile.net/spreadsheets/pdf_di...</td>\n",
       "    </tr>\n",
       "    <tr>\n",
       "      <th>1</th>\n",
       "      <td>2018.06.18</td>\n",
       "      <td>18-Jun-2018</td>\n",
       "      <td>2018.0</td>\n",
       "      <td>Unprovoked</td>\n",
       "      <td>USA</td>\n",
       "      <td>Georgia</td>\n",
       "      <td>St. Simon Island, Glynn County</td>\n",
       "      <td>Standing</td>\n",
       "      <td>Adyson McNeely</td>\n",
       "      <td>F</td>\n",
       "      <td>11</td>\n",
       "      <td>Minor injury to left thigh</td>\n",
       "      <td>N</td>\n",
       "      <td>14h00  -15h00</td>\n",
       "      <td>NaN</td>\n",
       "      <td>K.McMurray, TrackingSharks.com</td>\n",
       "      <td>http://sharkattackfile.net/spreadsheets/pdf_di...</td>\n",
       "    </tr>\n",
       "    <tr>\n",
       "      <th>2</th>\n",
       "      <td>2018.06.09</td>\n",
       "      <td>09-Jun-2018</td>\n",
       "      <td>2018.0</td>\n",
       "      <td>Invalid</td>\n",
       "      <td>USA</td>\n",
       "      <td>Hawaii</td>\n",
       "      <td>Habush, Oahu</td>\n",
       "      <td>Surfing</td>\n",
       "      <td>John Denges</td>\n",
       "      <td>M</td>\n",
       "      <td>48</td>\n",
       "      <td>Injury to left lower leg from surfboard skeg</td>\n",
       "      <td>N</td>\n",
       "      <td>07h45</td>\n",
       "      <td>NaN</td>\n",
       "      <td>K.McMurray, TrackingSharks.com</td>\n",
       "      <td>http://sharkattackfile.net/spreadsheets/pdf_di...</td>\n",
       "    </tr>\n",
       "    <tr>\n",
       "      <th>3</th>\n",
       "      <td>2018.06.08</td>\n",
       "      <td>08-Jun-2018</td>\n",
       "      <td>2018.0</td>\n",
       "      <td>Unprovoked</td>\n",
       "      <td>AUSTRALIA</td>\n",
       "      <td>New South Wales</td>\n",
       "      <td>Arrawarra Headland</td>\n",
       "      <td>Surfing</td>\n",
       "      <td>male</td>\n",
       "      <td>M</td>\n",
       "      <td>NaN</td>\n",
       "      <td>Minor injury to lower leg</td>\n",
       "      <td>N</td>\n",
       "      <td>NaN</td>\n",
       "      <td>2 m shark</td>\n",
       "      <td>B. Myatt, GSAF</td>\n",
       "      <td>http://sharkattackfile.net/spreadsheets/pdf_di...</td>\n",
       "    </tr>\n",
       "    <tr>\n",
       "      <th>4</th>\n",
       "      <td>2018.06.04</td>\n",
       "      <td>04-Jun-2018</td>\n",
       "      <td>2018.0</td>\n",
       "      <td>Provoked</td>\n",
       "      <td>MEXICO</td>\n",
       "      <td>Colima</td>\n",
       "      <td>La Ticla</td>\n",
       "      <td>Free diving</td>\n",
       "      <td>Gustavo Ramos</td>\n",
       "      <td>M</td>\n",
       "      <td>NaN</td>\n",
       "      <td>Lacerations to leg &amp; hand shark PROVOKED INCIDENT</td>\n",
       "      <td>N</td>\n",
       "      <td>NaN</td>\n",
       "      <td>Tiger shark, 3m</td>\n",
       "      <td>A .Kipper</td>\n",
       "      <td>http://sharkattackfile.net/spreadsheets/pdf_di...</td>\n",
       "    </tr>\n",
       "  </tbody>\n",
       "</table>\n",
       "</div>"
      ],
      "text/plain": [
       "  Case Number         Date    Year        Type    Country             Area  \\\n",
       "0  2018.06.25  25-Jun-2018  2018.0     Boating        USA       California   \n",
       "1  2018.06.18  18-Jun-2018  2018.0  Unprovoked        USA          Georgia   \n",
       "2  2018.06.09  09-Jun-2018  2018.0     Invalid        USA           Hawaii   \n",
       "3  2018.06.08  08-Jun-2018  2018.0  Unprovoked  AUSTRALIA  New South Wales   \n",
       "4  2018.06.04  04-Jun-2018  2018.0    Provoked     MEXICO           Colima   \n",
       "\n",
       "                         Location     Activity             Name Sex   Age  \\\n",
       "0     Oceanside, San Diego County     Paddling      Julie Wolfe    F   57   \n",
       "1  St. Simon Island, Glynn County     Standing  Adyson McNeely     F   11   \n",
       "2                    Habush, Oahu      Surfing      John Denges    M   48   \n",
       "3              Arrawarra Headland      Surfing             male    M  NaN   \n",
       "4                        La Ticla  Free diving   Gustavo Ramos     M  NaN   \n",
       "\n",
       "                                              Injury Fatal (Y/N)  \\\n",
       "0  No injury to occupant, outrigger canoe and pad...           N   \n",
       "1                         Minor injury to left thigh           N   \n",
       "2       Injury to left lower leg from surfboard skeg           N   \n",
       "3                          Minor injury to lower leg           N   \n",
       "4  Lacerations to leg & hand shark PROVOKED INCIDENT           N   \n",
       "\n",
       "            Time         Species           Investigator or Source  \\\n",
       "0          18h00      White shark                R. Collier, GSAF   \n",
       "1  14h00  -15h00              NaN  K.McMurray, TrackingSharks.com   \n",
       "2          07h45              NaN  K.McMurray, TrackingSharks.com   \n",
       "3            NaN        2 m shark                  B. Myatt, GSAF   \n",
       "4            NaN  Tiger shark, 3m                       A .Kipper   \n",
       "\n",
       "                                                href  \n",
       "0  http://sharkattackfile.net/spreadsheets/pdf_di...  \n",
       "1  http://sharkattackfile.net/spreadsheets/pdf_di...  \n",
       "2  http://sharkattackfile.net/spreadsheets/pdf_di...  \n",
       "3  http://sharkattackfile.net/spreadsheets/pdf_di...  \n",
       "4  http://sharkattackfile.net/spreadsheets/pdf_di...  "
      ]
     },
     "execution_count": 65,
     "metadata": {},
     "output_type": "execute_result"
    }
   ],
   "source": [
    "db.head()"
   ]
  },
  {
   "cell_type": "code",
   "execution_count": 59,
   "metadata": {
    "ExecuteTime": {
     "end_time": "2021-01-23T13:07:36.157167Z",
     "start_time": "2021-01-23T13:07:36.146640Z"
    },
    "hidden": true
   },
   "outputs": [],
   "source": [
    "db = db.drop(null_mask.index)"
   ]
  },
  {
   "cell_type": "markdown",
   "metadata": {
    "heading_collapsed": true,
    "hidden": true
   },
   "source": [
    "## Fixing Data Types"
   ]
  },
  {
   "cell_type": "code",
   "execution_count": 101,
   "metadata": {
    "ExecuteTime": {
     "end_time": "2021-01-23T13:42:16.113269Z",
     "start_time": "2021-01-23T13:42:16.107249Z"
    },
    "hidden": true
   },
   "outputs": [
    {
     "data": {
      "text/plain": [
       "0       2018.0\n",
       "1       2018.0\n",
       "2       2018.0\n",
       "3       2018.0\n",
       "4       2018.0\n",
       "         ...  \n",
       "6297       0.0\n",
       "6298       0.0\n",
       "6299       0.0\n",
       "6300       0.0\n",
       "6301       0.0\n",
       "Name: Year, Length: 6302, dtype: float64"
      ]
     },
     "execution_count": 101,
     "metadata": {},
     "output_type": "execute_result"
    }
   ],
   "source": [
    "db.Year.astype(float)"
   ]
  },
  {
   "cell_type": "code",
   "execution_count": 249,
   "metadata": {
    "ExecuteTime": {
     "end_time": "2021-01-24T17:30:46.227935Z",
     "start_time": "2021-01-24T17:30:46.222417Z"
    },
    "hidden": true
   },
   "outputs": [
    {
     "name": "stderr",
     "output_type": "stream",
     "text": [
      "<ipython-input-249-2491e47da78c>:1: SettingWithCopyWarning: \n",
      "A value is trying to be set on a copy of a slice from a DataFrame.\n",
      "Try using .loc[row_indexer,col_indexer] = value instead\n",
      "\n",
      "See the caveats in the documentation: https://pandas.pydata.org/pandas-docs/stable/user_guide/indexing.html#returning-a-view-versus-a-copy\n",
      "  db2['New Age'] = db2['New Age'].astype(float)\n"
     ]
    }
   ],
   "source": [
    "db2['New Age'] = db2['New Age'].astype(float)"
   ]
  },
  {
   "cell_type": "markdown",
   "metadata": {
    "heading_collapsed": true,
    "hidden": true
   },
   "source": [
    "## Fixing 'Age' Column"
   ]
  },
  {
   "cell_type": "code",
   "execution_count": 198,
   "metadata": {
    "ExecuteTime": {
     "end_time": "2021-01-24T14:35:43.149569Z",
     "start_time": "2021-01-24T14:35:43.146562Z"
    },
    "hidden": true
   },
   "outputs": [],
   "source": [
    "def return_num(value):\n",
    "    value = str(value)\n",
    "    return value[0:2]"
   ]
  },
  {
   "cell_type": "code",
   "execution_count": 199,
   "metadata": {
    "ExecuteTime": {
     "end_time": "2021-01-24T14:35:44.777006Z",
     "start_time": "2021-01-24T14:35:44.769987Z"
    },
    "hidden": true
   },
   "outputs": [],
   "source": [
    "db['New Age'] = db.Age.apply(return_num)"
   ]
  },
  {
   "cell_type": "code",
   "execution_count": 201,
   "metadata": {
    "ExecuteTime": {
     "end_time": "2021-01-24T14:38:32.565976Z",
     "start_time": "2021-01-24T14:38:32.558956Z"
    },
    "hidden": true
   },
   "outputs": [
    {
     "data": {
      "text/plain": [
       "na    2831\n",
       "17     156\n",
       "18     153\n",
       "20     150\n",
       "19     142\n",
       "      ... \n",
       ">5       1\n",
       "84       1\n",
       "(a       1\n",
       "X        1\n",
       "MA       1\n",
       "Name: New Age, Length: 110, dtype: int64"
      ]
     },
     "execution_count": 201,
     "metadata": {},
     "output_type": "execute_result"
    }
   ],
   "source": [
    "db['New Age'].value_counts()"
   ]
  },
  {
   "cell_type": "code",
   "execution_count": 219,
   "metadata": {
    "ExecuteTime": {
     "end_time": "2021-01-24T14:55:54.814744Z",
     "start_time": "2021-01-24T14:55:54.808727Z"
    },
    "hidden": true
   },
   "outputs": [],
   "source": [
    "db['New Age'] = db['New Age'].map(lambda x: x.rstrip('½'))"
   ]
  },
  {
   "cell_type": "code",
   "execution_count": 210,
   "metadata": {
    "ExecuteTime": {
     "end_time": "2021-01-24T14:47:03.365318Z",
     "start_time": "2021-01-24T14:47:03.362310Z"
    },
    "hidden": true
   },
   "outputs": [],
   "source": [
    "def is_num(number):\n",
    "    if number.isnumeric() == True:\n",
    "        return True\n",
    "    else:\n",
    "        return False"
   ]
  },
  {
   "cell_type": "code",
   "execution_count": 235,
   "metadata": {
    "ExecuteTime": {
     "end_time": "2021-01-24T17:27:08.307958Z",
     "start_time": "2021-01-24T17:27:08.301939Z"
    },
    "hidden": true
   },
   "outputs": [],
   "source": [
    "mask_ages = db['New Age'].apply(is_num)"
   ]
  },
  {
   "cell_type": "code",
   "execution_count": 220,
   "metadata": {
    "ExecuteTime": {
     "end_time": "2021-01-24T14:56:16.673040Z",
     "start_time": "2021-01-24T14:56:16.665019Z"
    },
    "hidden": true
   },
   "outputs": [
    {
     "data": {
      "text/plain": [
       "17    156\n",
       "18    153\n",
       "20    150\n",
       "19    142\n",
       "16    139\n",
       "     ... \n",
       "87      1\n",
       "67      1\n",
       "84      1\n",
       "72      1\n",
       "82      1\n",
       "Name: New Age, Length: 81, dtype: int64"
      ]
     },
     "execution_count": 220,
     "metadata": {},
     "output_type": "execute_result"
    }
   ],
   "source": [
    "db['New Age'][test].value_counts()"
   ]
  },
  {
   "cell_type": "code",
   "execution_count": 230,
   "metadata": {
    "ExecuteTime": {
     "end_time": "2021-01-24T17:23:29.704369Z",
     "start_time": "2021-01-24T17:23:29.700860Z"
    },
    "hidden": true
   },
   "outputs": [],
   "source": [
    "list_ages = db['New Age'][test].tolist()"
   ]
  },
  {
   "cell_type": "code",
   "execution_count": 247,
   "metadata": {
    "ExecuteTime": {
     "end_time": "2021-01-24T17:30:05.434496Z",
     "start_time": "2021-01-24T17:30:05.429482Z"
    },
    "hidden": true
   },
   "outputs": [],
   "source": [
    "db2 = db[mask_ages]"
   ]
  },
  {
   "cell_type": "code",
   "execution_count": 251,
   "metadata": {
    "ExecuteTime": {
     "end_time": "2021-01-24T17:31:13.971736Z",
     "start_time": "2021-01-24T17:31:13.950680Z"
    },
    "hidden": true
   },
   "outputs": [
    {
     "data": {
      "text/html": [
       "<div>\n",
       "<style scoped>\n",
       "    .dataframe tbody tr th:only-of-type {\n",
       "        vertical-align: middle;\n",
       "    }\n",
       "\n",
       "    .dataframe tbody tr th {\n",
       "        vertical-align: top;\n",
       "    }\n",
       "\n",
       "    .dataframe thead th {\n",
       "        text-align: right;\n",
       "    }\n",
       "</style>\n",
       "<table border=\"1\" class=\"dataframe\">\n",
       "  <thead>\n",
       "    <tr style=\"text-align: right;\">\n",
       "      <th></th>\n",
       "      <th>Year</th>\n",
       "      <th>New Age</th>\n",
       "    </tr>\n",
       "  </thead>\n",
       "  <tbody>\n",
       "    <tr>\n",
       "      <th>count</th>\n",
       "      <td>3421.000000</td>\n",
       "      <td>3422.000000</td>\n",
       "    </tr>\n",
       "    <tr>\n",
       "      <th>mean</th>\n",
       "      <td>1977.010231</td>\n",
       "      <td>27.366745</td>\n",
       "    </tr>\n",
       "    <tr>\n",
       "      <th>std</th>\n",
       "      <td>126.162810</td>\n",
       "      <td>13.883917</td>\n",
       "    </tr>\n",
       "    <tr>\n",
       "      <th>min</th>\n",
       "      <td>0.000000</td>\n",
       "      <td>1.000000</td>\n",
       "    </tr>\n",
       "    <tr>\n",
       "      <th>25%</th>\n",
       "      <td>1964.000000</td>\n",
       "      <td>17.000000</td>\n",
       "    </tr>\n",
       "    <tr>\n",
       "      <th>50%</th>\n",
       "      <td>1996.000000</td>\n",
       "      <td>24.000000</td>\n",
       "    </tr>\n",
       "    <tr>\n",
       "      <th>75%</th>\n",
       "      <td>2009.000000</td>\n",
       "      <td>35.000000</td>\n",
       "    </tr>\n",
       "    <tr>\n",
       "      <th>max</th>\n",
       "      <td>2018.000000</td>\n",
       "      <td>87.000000</td>\n",
       "    </tr>\n",
       "  </tbody>\n",
       "</table>\n",
       "</div>"
      ],
      "text/plain": [
       "              Year      New Age\n",
       "count  3421.000000  3422.000000\n",
       "mean   1977.010231    27.366745\n",
       "std     126.162810    13.883917\n",
       "min       0.000000     1.000000\n",
       "25%    1964.000000    17.000000\n",
       "50%    1996.000000    24.000000\n",
       "75%    2009.000000    35.000000\n",
       "max    2018.000000    87.000000"
      ]
     },
     "execution_count": 251,
     "metadata": {},
     "output_type": "execute_result"
    }
   ],
   "source": [
    "db2.describe()"
   ]
  },
  {
   "cell_type": "code",
   "execution_count": 252,
   "metadata": {
    "ExecuteTime": {
     "end_time": "2021-01-24T17:31:49.445982Z",
     "start_time": "2021-01-24T17:31:49.422920Z"
    },
    "hidden": true
   },
   "outputs": [
    {
     "data": {
      "text/html": [
       "<div>\n",
       "<style scoped>\n",
       "    .dataframe tbody tr th:only-of-type {\n",
       "        vertical-align: middle;\n",
       "    }\n",
       "\n",
       "    .dataframe tbody tr th {\n",
       "        vertical-align: top;\n",
       "    }\n",
       "\n",
       "    .dataframe thead th {\n",
       "        text-align: right;\n",
       "    }\n",
       "</style>\n",
       "<table border=\"1\" class=\"dataframe\">\n",
       "  <thead>\n",
       "    <tr style=\"text-align: right;\">\n",
       "      <th></th>\n",
       "      <th>Case Number</th>\n",
       "      <th>Date</th>\n",
       "      <th>Year</th>\n",
       "      <th>Type</th>\n",
       "      <th>Country</th>\n",
       "      <th>Area</th>\n",
       "      <th>Location</th>\n",
       "      <th>Activity</th>\n",
       "      <th>Name</th>\n",
       "      <th>Sex</th>\n",
       "      <th>Age</th>\n",
       "      <th>Injury</th>\n",
       "      <th>Fatal (Y/N)</th>\n",
       "      <th>Time</th>\n",
       "      <th>Species</th>\n",
       "      <th>Investigator or Source</th>\n",
       "      <th>href</th>\n",
       "      <th>New Age</th>\n",
       "    </tr>\n",
       "  </thead>\n",
       "  <tbody>\n",
       "    <tr>\n",
       "      <th>0</th>\n",
       "      <td>2018.06.25</td>\n",
       "      <td>25-Jun-2018</td>\n",
       "      <td>2018.0</td>\n",
       "      <td>Boating</td>\n",
       "      <td>USA</td>\n",
       "      <td>California</td>\n",
       "      <td>Oceanside, San Diego County</td>\n",
       "      <td>Paddling</td>\n",
       "      <td>Julie Wolfe</td>\n",
       "      <td>F</td>\n",
       "      <td>57</td>\n",
       "      <td>No injury to occupant, outrigger canoe and pad...</td>\n",
       "      <td>N</td>\n",
       "      <td>18h00</td>\n",
       "      <td>White shark</td>\n",
       "      <td>R. Collier, GSAF</td>\n",
       "      <td>http://sharkattackfile.net/spreadsheets/pdf_di...</td>\n",
       "      <td>57.0</td>\n",
       "    </tr>\n",
       "    <tr>\n",
       "      <th>1</th>\n",
       "      <td>2018.06.18</td>\n",
       "      <td>18-Jun-2018</td>\n",
       "      <td>2018.0</td>\n",
       "      <td>Unprovoked</td>\n",
       "      <td>USA</td>\n",
       "      <td>Georgia</td>\n",
       "      <td>St. Simon Island, Glynn County</td>\n",
       "      <td>Standing</td>\n",
       "      <td>Adyson McNeely</td>\n",
       "      <td>F</td>\n",
       "      <td>11</td>\n",
       "      <td>Minor injury to left thigh</td>\n",
       "      <td>N</td>\n",
       "      <td>14h00  -15h00</td>\n",
       "      <td>NaN</td>\n",
       "      <td>K.McMurray, TrackingSharks.com</td>\n",
       "      <td>http://sharkattackfile.net/spreadsheets/pdf_di...</td>\n",
       "      <td>11.0</td>\n",
       "    </tr>\n",
       "    <tr>\n",
       "      <th>2</th>\n",
       "      <td>2018.06.09</td>\n",
       "      <td>09-Jun-2018</td>\n",
       "      <td>2018.0</td>\n",
       "      <td>Invalid</td>\n",
       "      <td>USA</td>\n",
       "      <td>Hawaii</td>\n",
       "      <td>Habush, Oahu</td>\n",
       "      <td>Surfing</td>\n",
       "      <td>John Denges</td>\n",
       "      <td>M</td>\n",
       "      <td>48</td>\n",
       "      <td>Injury to left lower leg from surfboard skeg</td>\n",
       "      <td>N</td>\n",
       "      <td>07h45</td>\n",
       "      <td>NaN</td>\n",
       "      <td>K.McMurray, TrackingSharks.com</td>\n",
       "      <td>http://sharkattackfile.net/spreadsheets/pdf_di...</td>\n",
       "      <td>48.0</td>\n",
       "    </tr>\n",
       "    <tr>\n",
       "      <th>6</th>\n",
       "      <td>2018.06.03.a</td>\n",
       "      <td>03-Jun-2018</td>\n",
       "      <td>2018.0</td>\n",
       "      <td>Unprovoked</td>\n",
       "      <td>BRAZIL</td>\n",
       "      <td>Pernambuco</td>\n",
       "      <td>Piedade Beach, Recife</td>\n",
       "      <td>Swimming</td>\n",
       "      <td>Jose Ernesto da Silva</td>\n",
       "      <td>M</td>\n",
       "      <td>18</td>\n",
       "      <td>FATAL</td>\n",
       "      <td>Y</td>\n",
       "      <td>Late afternoon</td>\n",
       "      <td>Tiger shark</td>\n",
       "      <td>Diario de Pernambuco, 6/4/2018</td>\n",
       "      <td>http://sharkattackfile.net/spreadsheets/pdf_di...</td>\n",
       "      <td>18.0</td>\n",
       "    </tr>\n",
       "    <tr>\n",
       "      <th>7</th>\n",
       "      <td>2018.05.27</td>\n",
       "      <td>27-May-2018</td>\n",
       "      <td>2018.0</td>\n",
       "      <td>Unprovoked</td>\n",
       "      <td>USA</td>\n",
       "      <td>Florida</td>\n",
       "      <td>Lighhouse Point Park, Ponce Inlet, Volusia County</td>\n",
       "      <td>Fishing</td>\n",
       "      <td>male</td>\n",
       "      <td>M</td>\n",
       "      <td>52</td>\n",
       "      <td>Minor injury to foot. PROVOKED INCIDENT</td>\n",
       "      <td>N</td>\n",
       "      <td>NaN</td>\n",
       "      <td>Lemon shark, 3'</td>\n",
       "      <td>K. McMurray, TrackingSharks.com</td>\n",
       "      <td>http://sharkattackfile.net/spreadsheets/pdf_di...</td>\n",
       "      <td>52.0</td>\n",
       "    </tr>\n",
       "  </tbody>\n",
       "</table>\n",
       "</div>"
      ],
      "text/plain": [
       "    Case Number         Date    Year        Type Country        Area  \\\n",
       "0    2018.06.25  25-Jun-2018  2018.0     Boating     USA  California   \n",
       "1    2018.06.18  18-Jun-2018  2018.0  Unprovoked     USA     Georgia   \n",
       "2    2018.06.09  09-Jun-2018  2018.0     Invalid     USA      Hawaii   \n",
       "6  2018.06.03.a  03-Jun-2018  2018.0  Unprovoked  BRAZIL  Pernambuco   \n",
       "7    2018.05.27  27-May-2018  2018.0  Unprovoked     USA     Florida   \n",
       "\n",
       "                                            Location  Activity  \\\n",
       "0                        Oceanside, San Diego County  Paddling   \n",
       "1                     St. Simon Island, Glynn County  Standing   \n",
       "2                                       Habush, Oahu   Surfing   \n",
       "6                              Piedade Beach, Recife  Swimming   \n",
       "7  Lighhouse Point Park, Ponce Inlet, Volusia County   Fishing   \n",
       "\n",
       "                     Name Sex  Age  \\\n",
       "0             Julie Wolfe    F  57   \n",
       "1         Adyson McNeely     F  11   \n",
       "2             John Denges    M  48   \n",
       "6  Jose Ernesto da Silva     M  18   \n",
       "7                    male    M  52   \n",
       "\n",
       "                                              Injury Fatal (Y/N)  \\\n",
       "0  No injury to occupant, outrigger canoe and pad...           N   \n",
       "1                         Minor injury to left thigh           N   \n",
       "2       Injury to left lower leg from surfboard skeg           N   \n",
       "6                                              FATAL           Y   \n",
       "7            Minor injury to foot. PROVOKED INCIDENT           N   \n",
       "\n",
       "             Time         Species            Investigator or Source  \\\n",
       "0           18h00      White shark                 R. Collier, GSAF   \n",
       "1   14h00  -15h00              NaN   K.McMurray, TrackingSharks.com   \n",
       "2           07h45              NaN   K.McMurray, TrackingSharks.com   \n",
       "6  Late afternoon      Tiger shark   Diario de Pernambuco, 6/4/2018   \n",
       "7             NaN  Lemon shark, 3'  K. McMurray, TrackingSharks.com   \n",
       "\n",
       "                                                href  New Age  \n",
       "0  http://sharkattackfile.net/spreadsheets/pdf_di...     57.0  \n",
       "1  http://sharkattackfile.net/spreadsheets/pdf_di...     11.0  \n",
       "2  http://sharkattackfile.net/spreadsheets/pdf_di...     48.0  \n",
       "6  http://sharkattackfile.net/spreadsheets/pdf_di...     18.0  \n",
       "7  http://sharkattackfile.net/spreadsheets/pdf_di...     52.0  "
      ]
     },
     "execution_count": 252,
     "metadata": {},
     "output_type": "execute_result"
    }
   ],
   "source": [
    "db2.head()"
   ]
  },
  {
   "cell_type": "markdown",
   "metadata": {
    "heading_collapsed": true,
    "hidden": true
   },
   "source": [
    "## Fixing the year column"
   ]
  },
  {
   "cell_type": "code",
   "execution_count": 253,
   "metadata": {
    "ExecuteTime": {
     "end_time": "2021-01-24T17:36:05.723061Z",
     "start_time": "2021-01-24T17:36:05.720052Z"
    },
    "hidden": true
   },
   "outputs": [],
   "source": [
    "list_ages = db2['Year'].tolist()"
   ]
  },
  {
   "cell_type": "code",
   "execution_count": 255,
   "metadata": {
    "ExecuteTime": {
     "end_time": "2021-01-24T17:36:24.886344Z",
     "start_time": "2021-01-24T17:36:24.880829Z"
    },
    "hidden": true
   },
   "outputs": [
    {
     "data": {
      "text/plain": [
       "{nan,\n",
       " 0.0,\n",
       " 1703.0,\n",
       " 1749.0,\n",
       " 1817.0,\n",
       " 1828.0,\n",
       " 1830.0,\n",
       " 1837.0,\n",
       " 1839.0,\n",
       " 1842.0,\n",
       " 1847.0,\n",
       " 1848.0,\n",
       " 1852.0,\n",
       " 1855.0,\n",
       " 1856.0,\n",
       " 1858.0,\n",
       " 1859.0,\n",
       " 1862.0,\n",
       " 1863.0,\n",
       " 1864.0,\n",
       " 1865.0,\n",
       " 1868.0,\n",
       " 1870.0,\n",
       " 1871.0,\n",
       " 1873.0,\n",
       " 1875.0,\n",
       " 1877.0,\n",
       " 1878.0,\n",
       " 1879.0,\n",
       " 1880.0,\n",
       " 1881.0,\n",
       " 1883.0,\n",
       " 1886.0,\n",
       " 1887.0,\n",
       " 1888.0,\n",
       " 1890.0,\n",
       " 1892.0,\n",
       " 1894.0,\n",
       " 1895.0,\n",
       " 1896.0,\n",
       " 1898.0,\n",
       " 1899.0,\n",
       " 1900.0,\n",
       " 1901.0,\n",
       " 1902.0,\n",
       " 1903.0,\n",
       " 1904.0,\n",
       " 1905.0,\n",
       " 1906.0,\n",
       " 1907.0,\n",
       " 1908.0,\n",
       " 1909.0,\n",
       " 1911.0,\n",
       " 1912.0,\n",
       " 1913.0,\n",
       " 1914.0,\n",
       " 1915.0,\n",
       " 1916.0,\n",
       " 1918.0,\n",
       " 1919.0,\n",
       " 1920.0,\n",
       " 1921.0,\n",
       " 1922.0,\n",
       " 1923.0,\n",
       " 1924.0,\n",
       " 1925.0,\n",
       " 1926.0,\n",
       " 1927.0,\n",
       " 1928.0,\n",
       " 1929.0,\n",
       " 1930.0,\n",
       " 1931.0,\n",
       " 1932.0,\n",
       " 1933.0,\n",
       " 1934.0,\n",
       " 1935.0,\n",
       " 1936.0,\n",
       " 1937.0,\n",
       " 1938.0,\n",
       " 1939.0,\n",
       " 1940.0,\n",
       " 1941.0,\n",
       " 1942.0,\n",
       " 1943.0,\n",
       " 1944.0,\n",
       " 1945.0,\n",
       " 1946.0,\n",
       " 1947.0,\n",
       " 1948.0,\n",
       " 1949.0,\n",
       " 1950.0,\n",
       " 1951.0,\n",
       " 1952.0,\n",
       " 1953.0,\n",
       " 1954.0,\n",
       " 1955.0,\n",
       " 1956.0,\n",
       " 1957.0,\n",
       " 1958.0,\n",
       " 1959.0,\n",
       " 1960.0,\n",
       " 1961.0,\n",
       " 1962.0,\n",
       " 1963.0,\n",
       " 1964.0,\n",
       " 1965.0,\n",
       " 1966.0,\n",
       " 1967.0,\n",
       " 1968.0,\n",
       " 1969.0,\n",
       " 1970.0,\n",
       " 1971.0,\n",
       " 1972.0,\n",
       " 1973.0,\n",
       " 1974.0,\n",
       " 1975.0,\n",
       " 1976.0,\n",
       " 1977.0,\n",
       " 1978.0,\n",
       " 1979.0,\n",
       " 1980.0,\n",
       " 1981.0,\n",
       " 1982.0,\n",
       " 1983.0,\n",
       " 1984.0,\n",
       " 1985.0,\n",
       " 1986.0,\n",
       " 1987.0,\n",
       " 1988.0,\n",
       " 1989.0,\n",
       " 1990.0,\n",
       " 1991.0,\n",
       " 1992.0,\n",
       " 1993.0,\n",
       " 1994.0,\n",
       " 1995.0,\n",
       " 1996.0,\n",
       " 1997.0,\n",
       " 1998.0,\n",
       " 1999.0,\n",
       " 2000.0,\n",
       " 2001.0,\n",
       " 2002.0,\n",
       " 2003.0,\n",
       " 2004.0,\n",
       " 2005.0,\n",
       " 2006.0,\n",
       " 2007.0,\n",
       " 2008.0,\n",
       " 2009.0,\n",
       " 2010.0,\n",
       " 2011.0,\n",
       " 2012.0,\n",
       " 2013.0,\n",
       " 2014.0,\n",
       " 2015.0,\n",
       " 2016.0,\n",
       " 2017.0,\n",
       " 2018.0}"
      ]
     },
     "execution_count": 255,
     "metadata": {},
     "output_type": "execute_result"
    }
   ],
   "source": [
    "set(list_ages)"
   ]
  },
  {
   "cell_type": "code",
   "execution_count": 260,
   "metadata": {
    "ExecuteTime": {
     "end_time": "2021-01-24T18:00:50.827496Z",
     "start_time": "2021-01-24T18:00:50.823486Z"
    },
    "hidden": true
   },
   "outputs": [],
   "source": [
    "old_cases = db2.loc[(db2['Year'] > 1703) & (db2['Year'] < 1920),'href']"
   ]
  },
  {
   "cell_type": "code",
   "execution_count": 264,
   "metadata": {
    "ExecuteTime": {
     "end_time": "2021-01-24T18:03:10.834303Z",
     "start_time": "2021-01-24T18:03:10.828287Z"
    },
    "hidden": true
   },
   "outputs": [
    {
     "name": "stderr",
     "output_type": "stream",
     "text": [
      "<ipython-input-264-02c51245184e>:1: FutureWarning: Passing a negative integer is deprecated in version 1.0 and will not be supported in future version. Instead, use None to not limit the column width.\n",
      "  pd.set_option('display.max_colwidth', -1)\n"
     ]
    },
    {
     "data": {
      "text/plain": [
       "5263    http://sharkattackfile.net/spreadsheets/pdf_directory/1919.12.30.R-Brothy.pdf    \n",
       "5264    http://sharkattackfile.net/spreadsheets/pdf_directory/1919.12.07-Ridley.pdf      \n",
       "5273    http://sharkattackfile.net/spreadsheets/pdf_directory/1919.01.09-Simpson.pdf     \n",
       "5274    http://sharkattackfile.net/spreadsheets/pdf_directory/1919.01.05-Hoey.pdf        \n",
       "5279    http://sharkattackfile.net/spreadsheets/pdf_directory/1918.09.19-Bartlett.pdf    \n",
       "                                            ...                                          \n",
       "6077    http://sharkattackfile.net/spreadsheets/pdf_directory/1837.01.17-Howe.pdf        \n",
       "6089    http://sharkattackfile.net/spreadsheets/pdf_directory/1830.07.26-JosephBlaney.pdf\n",
       "6096    http://sharkattackfile.net/spreadsheets/pdf_directory/1828.09.28-Corrigle.pdf    \n",
       "6114    http://sharkattackfile.net/spreadsheets/pdf_directory/1817.05.11-May.pdf         \n",
       "6152    http://sharkattackfile.net/spreadsheets/pdf_directory/1749.00.00-Watson.pdf      \n",
       "Name: href, Length: 132, dtype: object"
      ]
     },
     "execution_count": 264,
     "metadata": {},
     "output_type": "execute_result"
    }
   ],
   "source": [
    "pd.set_option('display.max_colwidth', -1)\n",
    "old_cases"
   ]
  },
  {
   "cell_type": "code",
   "execution_count": 265,
   "metadata": {
    "ExecuteTime": {
     "end_time": "2021-01-24T18:09:11.645987Z",
     "start_time": "2021-01-24T18:09:11.622920Z"
    },
    "hidden": true
   },
   "outputs": [
    {
     "data": {
      "text/html": [
       "<div>\n",
       "<style scoped>\n",
       "    .dataframe tbody tr th:only-of-type {\n",
       "        vertical-align: middle;\n",
       "    }\n",
       "\n",
       "    .dataframe tbody tr th {\n",
       "        vertical-align: top;\n",
       "    }\n",
       "\n",
       "    .dataframe thead th {\n",
       "        text-align: right;\n",
       "    }\n",
       "</style>\n",
       "<table border=\"1\" class=\"dataframe\">\n",
       "  <thead>\n",
       "    <tr style=\"text-align: right;\">\n",
       "      <th></th>\n",
       "      <th>Case Number</th>\n",
       "      <th>Date</th>\n",
       "      <th>Year</th>\n",
       "      <th>Type</th>\n",
       "      <th>Country</th>\n",
       "      <th>Area</th>\n",
       "      <th>Location</th>\n",
       "      <th>Activity</th>\n",
       "      <th>Name</th>\n",
       "      <th>Sex</th>\n",
       "      <th>Age</th>\n",
       "      <th>Injury</th>\n",
       "      <th>Fatal (Y/N)</th>\n",
       "      <th>Time</th>\n",
       "      <th>Species</th>\n",
       "      <th>Investigator or Source</th>\n",
       "      <th>href</th>\n",
       "      <th>New Age</th>\n",
       "    </tr>\n",
       "  </thead>\n",
       "  <tbody>\n",
       "    <tr>\n",
       "      <th>0</th>\n",
       "      <td>2018.06.25</td>\n",
       "      <td>25-Jun-2018</td>\n",
       "      <td>2018.0</td>\n",
       "      <td>Boating</td>\n",
       "      <td>USA</td>\n",
       "      <td>California</td>\n",
       "      <td>Oceanside, San Diego County</td>\n",
       "      <td>Paddling</td>\n",
       "      <td>Julie Wolfe</td>\n",
       "      <td>F</td>\n",
       "      <td>57</td>\n",
       "      <td>No injury to occupant, outrigger canoe and paddle damaged</td>\n",
       "      <td>N</td>\n",
       "      <td>18h00</td>\n",
       "      <td>White shark</td>\n",
       "      <td>R. Collier, GSAF</td>\n",
       "      <td>http://sharkattackfile.net/spreadsheets/pdf_directory/2018.06.25-Wolfe.pdf</td>\n",
       "      <td>57.0</td>\n",
       "    </tr>\n",
       "    <tr>\n",
       "      <th>1</th>\n",
       "      <td>2018.06.18</td>\n",
       "      <td>18-Jun-2018</td>\n",
       "      <td>2018.0</td>\n",
       "      <td>Unprovoked</td>\n",
       "      <td>USA</td>\n",
       "      <td>Georgia</td>\n",
       "      <td>St. Simon Island, Glynn County</td>\n",
       "      <td>Standing</td>\n",
       "      <td>Adyson McNeely</td>\n",
       "      <td>F</td>\n",
       "      <td>11</td>\n",
       "      <td>Minor injury to left thigh</td>\n",
       "      <td>N</td>\n",
       "      <td>14h00  -15h00</td>\n",
       "      <td>NaN</td>\n",
       "      <td>K.McMurray, TrackingSharks.com</td>\n",
       "      <td>http://sharkattackfile.net/spreadsheets/pdf_directory/2018.06.18-McNeely.pdf</td>\n",
       "      <td>11.0</td>\n",
       "    </tr>\n",
       "    <tr>\n",
       "      <th>2</th>\n",
       "      <td>2018.06.09</td>\n",
       "      <td>09-Jun-2018</td>\n",
       "      <td>2018.0</td>\n",
       "      <td>Invalid</td>\n",
       "      <td>USA</td>\n",
       "      <td>Hawaii</td>\n",
       "      <td>Habush, Oahu</td>\n",
       "      <td>Surfing</td>\n",
       "      <td>John Denges</td>\n",
       "      <td>M</td>\n",
       "      <td>48</td>\n",
       "      <td>Injury to left lower leg from surfboard skeg</td>\n",
       "      <td>N</td>\n",
       "      <td>07h45</td>\n",
       "      <td>NaN</td>\n",
       "      <td>K.McMurray, TrackingSharks.com</td>\n",
       "      <td>http://sharkattackfile.net/spreadsheets/pdf_directory/2018.06.09-Denges.pdf</td>\n",
       "      <td>48.0</td>\n",
       "    </tr>\n",
       "    <tr>\n",
       "      <th>6</th>\n",
       "      <td>2018.06.03.a</td>\n",
       "      <td>03-Jun-2018</td>\n",
       "      <td>2018.0</td>\n",
       "      <td>Unprovoked</td>\n",
       "      <td>BRAZIL</td>\n",
       "      <td>Pernambuco</td>\n",
       "      <td>Piedade Beach, Recife</td>\n",
       "      <td>Swimming</td>\n",
       "      <td>Jose Ernesto da Silva</td>\n",
       "      <td>M</td>\n",
       "      <td>18</td>\n",
       "      <td>FATAL</td>\n",
       "      <td>Y</td>\n",
       "      <td>Late afternoon</td>\n",
       "      <td>Tiger shark</td>\n",
       "      <td>Diario de Pernambuco, 6/4/2018</td>\n",
       "      <td>http://sharkattackfile.net/spreadsheets/pdf_directory/2018.06.03.a-daSilva.pdf</td>\n",
       "      <td>18.0</td>\n",
       "    </tr>\n",
       "    <tr>\n",
       "      <th>7</th>\n",
       "      <td>2018.05.27</td>\n",
       "      <td>27-May-2018</td>\n",
       "      <td>2018.0</td>\n",
       "      <td>Unprovoked</td>\n",
       "      <td>USA</td>\n",
       "      <td>Florida</td>\n",
       "      <td>Lighhouse Point Park, Ponce Inlet, Volusia County</td>\n",
       "      <td>Fishing</td>\n",
       "      <td>male</td>\n",
       "      <td>M</td>\n",
       "      <td>52</td>\n",
       "      <td>Minor injury to foot. PROVOKED INCIDENT</td>\n",
       "      <td>N</td>\n",
       "      <td>NaN</td>\n",
       "      <td>Lemon shark, 3'</td>\n",
       "      <td>K. McMurray, TrackingSharks.com</td>\n",
       "      <td>http://sharkattackfile.net/spreadsheets/pdf_directory/2018.05.27-Ponce.pdf</td>\n",
       "      <td>52.0</td>\n",
       "    </tr>\n",
       "  </tbody>\n",
       "</table>\n",
       "</div>"
      ],
      "text/plain": [
       "    Case Number         Date    Year        Type Country        Area  \\\n",
       "0  2018.06.25    25-Jun-2018  2018.0  Boating     USA     California   \n",
       "1  2018.06.18    18-Jun-2018  2018.0  Unprovoked  USA     Georgia      \n",
       "2  2018.06.09    09-Jun-2018  2018.0  Invalid     USA     Hawaii       \n",
       "6  2018.06.03.a  03-Jun-2018  2018.0  Unprovoked  BRAZIL  Pernambuco   \n",
       "7  2018.05.27    27-May-2018  2018.0  Unprovoked  USA     Florida      \n",
       "\n",
       "                                            Location  Activity  \\\n",
       "0  Oceanside, San Diego County                        Paddling   \n",
       "1  St. Simon Island, Glynn County                     Standing   \n",
       "2  Habush, Oahu                                       Surfing    \n",
       "6  Piedade Beach, Recife                              Swimming   \n",
       "7  Lighhouse Point Park, Ponce Inlet, Volusia County  Fishing    \n",
       "\n",
       "                     Name Sex  Age  \\\n",
       "0  Julie Wolfe             F    57   \n",
       "1  Adyson McNeely          F    11   \n",
       "2  John Denges             M    48   \n",
       "6  Jose Ernesto da Silva   M    18   \n",
       "7  male                    M    52   \n",
       "\n",
       "                                                      Injury Fatal (Y/N)  \\\n",
       "0  No injury to occupant, outrigger canoe and paddle damaged  N            \n",
       "1  Minor injury to left thigh                                 N            \n",
       "2  Injury to left lower leg from surfboard skeg               N            \n",
       "6  FATAL                                                      Y            \n",
       "7  Minor injury to foot. PROVOKED INCIDENT                    N            \n",
       "\n",
       "             Time         Species            Investigator or Source  \\\n",
       "0  18h00           White shark      R. Collier, GSAF                  \n",
       "1  14h00  -15h00   NaN              K.McMurray, TrackingSharks.com    \n",
       "2  07h45           NaN              K.McMurray, TrackingSharks.com    \n",
       "6  Late afternoon  Tiger shark      Diario de Pernambuco, 6/4/2018    \n",
       "7  NaN             Lemon shark, 3'  K. McMurray, TrackingSharks.com   \n",
       "\n",
       "                                                                             href  \\\n",
       "0  http://sharkattackfile.net/spreadsheets/pdf_directory/2018.06.25-Wolfe.pdf       \n",
       "1  http://sharkattackfile.net/spreadsheets/pdf_directory/2018.06.18-McNeely.pdf     \n",
       "2  http://sharkattackfile.net/spreadsheets/pdf_directory/2018.06.09-Denges.pdf      \n",
       "6  http://sharkattackfile.net/spreadsheets/pdf_directory/2018.06.03.a-daSilva.pdf   \n",
       "7  http://sharkattackfile.net/spreadsheets/pdf_directory/2018.05.27-Ponce.pdf       \n",
       "\n",
       "   New Age  \n",
       "0  57.0     \n",
       "1  11.0     \n",
       "2  48.0     \n",
       "6  18.0     \n",
       "7  52.0     "
      ]
     },
     "execution_count": 265,
     "metadata": {},
     "output_type": "execute_result"
    }
   ],
   "source": [
    "db2.head()"
   ]
  },
  {
   "cell_type": "code",
   "execution_count": 266,
   "metadata": {
    "ExecuteTime": {
     "end_time": "2021-01-24T18:42:42.201540Z",
     "start_time": "2021-01-24T18:42:42.186500Z"
    },
    "hidden": true
   },
   "outputs": [
    {
     "name": "stdout",
     "output_type": "stream",
     "text": [
      "<class 'pandas.core.frame.DataFrame'>\n",
      "Int64Index: 3422 entries, 0 to 6301\n",
      "Data columns (total 18 columns):\n",
      " #   Column                  Non-Null Count  Dtype  \n",
      "---  ------                  --------------  -----  \n",
      " 0   Case Number             3422 non-null   object \n",
      " 1   Date                    3422 non-null   object \n",
      " 2   Year                    3421 non-null   float64\n",
      " 3   Type                    3421 non-null   object \n",
      " 4   Country                 3413 non-null   object \n",
      " 5   Area                    3305 non-null   object \n",
      " 6   Location                3274 non-null   object \n",
      " 7   Activity                3288 non-null   object \n",
      " 8   Name                    3411 non-null   object \n",
      " 9   Sex                     3387 non-null   object \n",
      " 10  Age                     3422 non-null   object \n",
      " 11  Injury                  3417 non-null   object \n",
      " 12  Fatal (Y/N)             3201 non-null   object \n",
      " 13  Time                    2335 non-null   object \n",
      " 14  Species                 2168 non-null   object \n",
      " 15  Investigator or Source  3416 non-null   object \n",
      " 16  href                    3422 non-null   object \n",
      " 17  New Age                 3422 non-null   float64\n",
      "dtypes: float64(2), object(16)\n",
      "memory usage: 668.0+ KB\n"
     ]
    }
   ],
   "source": [
    "db2.info()"
   ]
  },
  {
   "cell_type": "markdown",
   "metadata": {
    "heading_collapsed": true,
    "hidden": true
   },
   "source": [
    "## Keeping only the columns that I'll work with it"
   ]
  },
  {
   "cell_type": "code",
   "execution_count": 267,
   "metadata": {
    "ExecuteTime": {
     "end_time": "2021-01-25T12:06:56.199657Z",
     "start_time": "2021-01-25T12:06:56.190131Z"
    },
    "hidden": true
   },
   "outputs": [],
   "source": [
    "db2 = db2.drop(columns=['Case Number', 'Age', 'Investigator or Source'])"
   ]
  },
  {
   "cell_type": "code",
   "execution_count": 269,
   "metadata": {
    "ExecuteTime": {
     "end_time": "2021-01-25T12:08:51.689010Z",
     "start_time": "2021-01-25T12:08:51.682993Z"
    },
    "hidden": true
   },
   "outputs": [],
   "source": [
    "db2 = db2.rename(columns={'New Age': 'Age'})"
   ]
  },
  {
   "cell_type": "code",
   "execution_count": 276,
   "metadata": {
    "ExecuteTime": {
     "end_time": "2021-01-25T12:12:39.895319Z",
     "start_time": "2021-01-25T12:12:39.889804Z"
    },
    "hidden": true
   },
   "outputs": [],
   "source": [
    "db2 = db2.rename(columns={'Type': 'Accident Type', 'href': 'Accident Link'})"
   ]
  },
  {
   "cell_type": "code",
   "execution_count": 271,
   "metadata": {
    "ExecuteTime": {
     "end_time": "2021-01-25T12:09:37.783576Z",
     "start_time": "2021-01-25T12:09:37.778562Z"
    },
    "hidden": true
   },
   "outputs": [
    {
     "data": {
      "text/plain": [
       "Index(['Date', 'Year', 'Type', 'Country', 'Area', 'Location', 'Activity',\n",
       "       'Name', 'Sex ', 'Injury', 'Fatal (Y/N)', 'Time', 'Species ', 'href',\n",
       "       'Age'],\n",
       "      dtype='object')"
      ]
     },
     "execution_count": 271,
     "metadata": {},
     "output_type": "execute_result"
    }
   ],
   "source": [
    "db2.columns"
   ]
  },
  {
   "cell_type": "code",
   "execution_count": 277,
   "metadata": {
    "ExecuteTime": {
     "end_time": "2021-01-25T12:12:42.090657Z",
     "start_time": "2021-01-25T12:12:42.083638Z"
    },
    "hidden": true
   },
   "outputs": [],
   "source": [
    "db2 = db2[['Date', 'Year', 'Accident Type', 'Country', 'Area', 'Location', 'Activity',\n",
    "       'Name', 'Age', 'Sex ', 'Injury', 'Fatal (Y/N)', 'Time', 'Species ', 'Accident Link']]"
   ]
  },
  {
   "cell_type": "code",
   "execution_count": 278,
   "metadata": {
    "ExecuteTime": {
     "end_time": "2021-01-25T12:13:09.059367Z",
     "start_time": "2021-01-25T12:13:09.037308Z"
    },
    "hidden": true
   },
   "outputs": [
    {
     "data": {
      "text/html": [
       "<div>\n",
       "<style scoped>\n",
       "    .dataframe tbody tr th:only-of-type {\n",
       "        vertical-align: middle;\n",
       "    }\n",
       "\n",
       "    .dataframe tbody tr th {\n",
       "        vertical-align: top;\n",
       "    }\n",
       "\n",
       "    .dataframe thead th {\n",
       "        text-align: right;\n",
       "    }\n",
       "</style>\n",
       "<table border=\"1\" class=\"dataframe\">\n",
       "  <thead>\n",
       "    <tr style=\"text-align: right;\">\n",
       "      <th></th>\n",
       "      <th>Date</th>\n",
       "      <th>Year</th>\n",
       "      <th>Accident Type</th>\n",
       "      <th>Country</th>\n",
       "      <th>Area</th>\n",
       "      <th>Location</th>\n",
       "      <th>Activity</th>\n",
       "      <th>Name</th>\n",
       "      <th>Age</th>\n",
       "      <th>Sex</th>\n",
       "      <th>Injury</th>\n",
       "      <th>Fatal (Y/N)</th>\n",
       "      <th>Time</th>\n",
       "      <th>Species</th>\n",
       "      <th>Accident Link</th>\n",
       "    </tr>\n",
       "  </thead>\n",
       "  <tbody>\n",
       "    <tr>\n",
       "      <th>0</th>\n",
       "      <td>25-Jun-2018</td>\n",
       "      <td>2018.0</td>\n",
       "      <td>Boating</td>\n",
       "      <td>USA</td>\n",
       "      <td>California</td>\n",
       "      <td>Oceanside, San Diego County</td>\n",
       "      <td>Paddling</td>\n",
       "      <td>Julie Wolfe</td>\n",
       "      <td>57.0</td>\n",
       "      <td>F</td>\n",
       "      <td>No injury to occupant, outrigger canoe and paddle damaged</td>\n",
       "      <td>N</td>\n",
       "      <td>18h00</td>\n",
       "      <td>White shark</td>\n",
       "      <td>http://sharkattackfile.net/spreadsheets/pdf_directory/2018.06.25-Wolfe.pdf</td>\n",
       "    </tr>\n",
       "    <tr>\n",
       "      <th>1</th>\n",
       "      <td>18-Jun-2018</td>\n",
       "      <td>2018.0</td>\n",
       "      <td>Unprovoked</td>\n",
       "      <td>USA</td>\n",
       "      <td>Georgia</td>\n",
       "      <td>St. Simon Island, Glynn County</td>\n",
       "      <td>Standing</td>\n",
       "      <td>Adyson McNeely</td>\n",
       "      <td>11.0</td>\n",
       "      <td>F</td>\n",
       "      <td>Minor injury to left thigh</td>\n",
       "      <td>N</td>\n",
       "      <td>14h00  -15h00</td>\n",
       "      <td>NaN</td>\n",
       "      <td>http://sharkattackfile.net/spreadsheets/pdf_directory/2018.06.18-McNeely.pdf</td>\n",
       "    </tr>\n",
       "    <tr>\n",
       "      <th>2</th>\n",
       "      <td>09-Jun-2018</td>\n",
       "      <td>2018.0</td>\n",
       "      <td>Invalid</td>\n",
       "      <td>USA</td>\n",
       "      <td>Hawaii</td>\n",
       "      <td>Habush, Oahu</td>\n",
       "      <td>Surfing</td>\n",
       "      <td>John Denges</td>\n",
       "      <td>48.0</td>\n",
       "      <td>M</td>\n",
       "      <td>Injury to left lower leg from surfboard skeg</td>\n",
       "      <td>N</td>\n",
       "      <td>07h45</td>\n",
       "      <td>NaN</td>\n",
       "      <td>http://sharkattackfile.net/spreadsheets/pdf_directory/2018.06.09-Denges.pdf</td>\n",
       "    </tr>\n",
       "    <tr>\n",
       "      <th>6</th>\n",
       "      <td>03-Jun-2018</td>\n",
       "      <td>2018.0</td>\n",
       "      <td>Unprovoked</td>\n",
       "      <td>BRAZIL</td>\n",
       "      <td>Pernambuco</td>\n",
       "      <td>Piedade Beach, Recife</td>\n",
       "      <td>Swimming</td>\n",
       "      <td>Jose Ernesto da Silva</td>\n",
       "      <td>18.0</td>\n",
       "      <td>M</td>\n",
       "      <td>FATAL</td>\n",
       "      <td>Y</td>\n",
       "      <td>Late afternoon</td>\n",
       "      <td>Tiger shark</td>\n",
       "      <td>http://sharkattackfile.net/spreadsheets/pdf_directory/2018.06.03.a-daSilva.pdf</td>\n",
       "    </tr>\n",
       "    <tr>\n",
       "      <th>7</th>\n",
       "      <td>27-May-2018</td>\n",
       "      <td>2018.0</td>\n",
       "      <td>Unprovoked</td>\n",
       "      <td>USA</td>\n",
       "      <td>Florida</td>\n",
       "      <td>Lighhouse Point Park, Ponce Inlet, Volusia County</td>\n",
       "      <td>Fishing</td>\n",
       "      <td>male</td>\n",
       "      <td>52.0</td>\n",
       "      <td>M</td>\n",
       "      <td>Minor injury to foot. PROVOKED INCIDENT</td>\n",
       "      <td>N</td>\n",
       "      <td>NaN</td>\n",
       "      <td>Lemon shark, 3'</td>\n",
       "      <td>http://sharkattackfile.net/spreadsheets/pdf_directory/2018.05.27-Ponce.pdf</td>\n",
       "    </tr>\n",
       "  </tbody>\n",
       "</table>\n",
       "</div>"
      ],
      "text/plain": [
       "          Date    Year Accident Type Country        Area  \\\n",
       "0  25-Jun-2018  2018.0  Boating       USA     California   \n",
       "1  18-Jun-2018  2018.0  Unprovoked    USA     Georgia      \n",
       "2  09-Jun-2018  2018.0  Invalid       USA     Hawaii       \n",
       "6  03-Jun-2018  2018.0  Unprovoked    BRAZIL  Pernambuco   \n",
       "7  27-May-2018  2018.0  Unprovoked    USA     Florida      \n",
       "\n",
       "                                            Location  Activity  \\\n",
       "0  Oceanside, San Diego County                        Paddling   \n",
       "1  St. Simon Island, Glynn County                     Standing   \n",
       "2  Habush, Oahu                                       Surfing    \n",
       "6  Piedade Beach, Recife                              Swimming   \n",
       "7  Lighhouse Point Park, Ponce Inlet, Volusia County  Fishing    \n",
       "\n",
       "                     Name   Age Sex   \\\n",
       "0  Julie Wolfe             57.0  F     \n",
       "1  Adyson McNeely          11.0  F     \n",
       "2  John Denges             48.0  M     \n",
       "6  Jose Ernesto da Silva   18.0  M     \n",
       "7  male                    52.0  M     \n",
       "\n",
       "                                                      Injury Fatal (Y/N)  \\\n",
       "0  No injury to occupant, outrigger canoe and paddle damaged  N            \n",
       "1  Minor injury to left thigh                                 N            \n",
       "2  Injury to left lower leg from surfboard skeg               N            \n",
       "6  FATAL                                                      Y            \n",
       "7  Minor injury to foot. PROVOKED INCIDENT                    N            \n",
       "\n",
       "             Time         Species   \\\n",
       "0  18h00           White shark       \n",
       "1  14h00  -15h00   NaN               \n",
       "2  07h45           NaN               \n",
       "6  Late afternoon  Tiger shark       \n",
       "7  NaN             Lemon shark, 3'   \n",
       "\n",
       "                                                                    Accident Link  \n",
       "0  http://sharkattackfile.net/spreadsheets/pdf_directory/2018.06.25-Wolfe.pdf      \n",
       "1  http://sharkattackfile.net/spreadsheets/pdf_directory/2018.06.18-McNeely.pdf    \n",
       "2  http://sharkattackfile.net/spreadsheets/pdf_directory/2018.06.09-Denges.pdf     \n",
       "6  http://sharkattackfile.net/spreadsheets/pdf_directory/2018.06.03.a-daSilva.pdf  \n",
       "7  http://sharkattackfile.net/spreadsheets/pdf_directory/2018.05.27-Ponce.pdf      "
      ]
     },
     "execution_count": 278,
     "metadata": {},
     "output_type": "execute_result"
    }
   ],
   "source": [
    "db2.head()"
   ]
  },
  {
   "cell_type": "markdown",
   "metadata": {
    "heading_collapsed": true,
    "hidden": true
   },
   "source": [
    "## Manipulating the month column"
   ]
  },
  {
   "cell_type": "code",
   "execution_count": 294,
   "metadata": {
    "ExecuteTime": {
     "end_time": "2021-01-25T12:47:55.221109Z",
     "start_time": "2021-01-25T12:47:55.218102Z"
    },
    "hidden": true
   },
   "outputs": [],
   "source": [
    "def ret_month(d):\n",
    "    dat = re.findall('[a-zA-Z][a-zA-Z][a-zA-Z]', d)\n",
    "    if len(dat) == 1:\n",
    "        return dat[0]\n",
    "    else:\n",
    "        return 'NaN'"
   ]
  },
  {
   "cell_type": "code",
   "execution_count": 295,
   "metadata": {
    "ExecuteTime": {
     "end_time": "2021-01-25T12:47:56.995829Z",
     "start_time": "2021-01-25T12:47:56.986303Z"
    },
    "hidden": true
   },
   "outputs": [],
   "source": [
    "db2['Month'] = db2['Date'].apply(ret_month)"
   ]
  },
  {
   "cell_type": "code",
   "execution_count": 296,
   "metadata": {
    "ExecuteTime": {
     "end_time": "2021-01-25T12:47:58.929470Z",
     "start_time": "2021-01-25T12:47:58.905908Z"
    },
    "hidden": true
   },
   "outputs": [
    {
     "data": {
      "text/html": [
       "<div>\n",
       "<style scoped>\n",
       "    .dataframe tbody tr th:only-of-type {\n",
       "        vertical-align: middle;\n",
       "    }\n",
       "\n",
       "    .dataframe tbody tr th {\n",
       "        vertical-align: top;\n",
       "    }\n",
       "\n",
       "    .dataframe thead th {\n",
       "        text-align: right;\n",
       "    }\n",
       "</style>\n",
       "<table border=\"1\" class=\"dataframe\">\n",
       "  <thead>\n",
       "    <tr style=\"text-align: right;\">\n",
       "      <th></th>\n",
       "      <th>Date</th>\n",
       "      <th>Year</th>\n",
       "      <th>Accident Type</th>\n",
       "      <th>Country</th>\n",
       "      <th>Area</th>\n",
       "      <th>Location</th>\n",
       "      <th>Activity</th>\n",
       "      <th>Name</th>\n",
       "      <th>Age</th>\n",
       "      <th>Sex</th>\n",
       "      <th>Injury</th>\n",
       "      <th>Fatal (Y/N)</th>\n",
       "      <th>Time</th>\n",
       "      <th>Species</th>\n",
       "      <th>Accident Link</th>\n",
       "      <th>Month</th>\n",
       "    </tr>\n",
       "  </thead>\n",
       "  <tbody>\n",
       "    <tr>\n",
       "      <th>0</th>\n",
       "      <td>25-Jun-2018</td>\n",
       "      <td>2018.0</td>\n",
       "      <td>Boating</td>\n",
       "      <td>USA</td>\n",
       "      <td>California</td>\n",
       "      <td>Oceanside, San Diego County</td>\n",
       "      <td>Paddling</td>\n",
       "      <td>Julie Wolfe</td>\n",
       "      <td>57.0</td>\n",
       "      <td>F</td>\n",
       "      <td>No injury to occupant, outrigger canoe and paddle damaged</td>\n",
       "      <td>N</td>\n",
       "      <td>18h00</td>\n",
       "      <td>White shark</td>\n",
       "      <td>http://sharkattackfile.net/spreadsheets/pdf_directory/2018.06.25-Wolfe.pdf</td>\n",
       "      <td>Jun</td>\n",
       "    </tr>\n",
       "    <tr>\n",
       "      <th>1</th>\n",
       "      <td>18-Jun-2018</td>\n",
       "      <td>2018.0</td>\n",
       "      <td>Unprovoked</td>\n",
       "      <td>USA</td>\n",
       "      <td>Georgia</td>\n",
       "      <td>St. Simon Island, Glynn County</td>\n",
       "      <td>Standing</td>\n",
       "      <td>Adyson McNeely</td>\n",
       "      <td>11.0</td>\n",
       "      <td>F</td>\n",
       "      <td>Minor injury to left thigh</td>\n",
       "      <td>N</td>\n",
       "      <td>14h00  -15h00</td>\n",
       "      <td>NaN</td>\n",
       "      <td>http://sharkattackfile.net/spreadsheets/pdf_directory/2018.06.18-McNeely.pdf</td>\n",
       "      <td>Jun</td>\n",
       "    </tr>\n",
       "    <tr>\n",
       "      <th>2</th>\n",
       "      <td>09-Jun-2018</td>\n",
       "      <td>2018.0</td>\n",
       "      <td>Invalid</td>\n",
       "      <td>USA</td>\n",
       "      <td>Hawaii</td>\n",
       "      <td>Habush, Oahu</td>\n",
       "      <td>Surfing</td>\n",
       "      <td>John Denges</td>\n",
       "      <td>48.0</td>\n",
       "      <td>M</td>\n",
       "      <td>Injury to left lower leg from surfboard skeg</td>\n",
       "      <td>N</td>\n",
       "      <td>07h45</td>\n",
       "      <td>NaN</td>\n",
       "      <td>http://sharkattackfile.net/spreadsheets/pdf_directory/2018.06.09-Denges.pdf</td>\n",
       "      <td>Jun</td>\n",
       "    </tr>\n",
       "    <tr>\n",
       "      <th>6</th>\n",
       "      <td>03-Jun-2018</td>\n",
       "      <td>2018.0</td>\n",
       "      <td>Unprovoked</td>\n",
       "      <td>BRAZIL</td>\n",
       "      <td>Pernambuco</td>\n",
       "      <td>Piedade Beach, Recife</td>\n",
       "      <td>Swimming</td>\n",
       "      <td>Jose Ernesto da Silva</td>\n",
       "      <td>18.0</td>\n",
       "      <td>M</td>\n",
       "      <td>FATAL</td>\n",
       "      <td>Y</td>\n",
       "      <td>Late afternoon</td>\n",
       "      <td>Tiger shark</td>\n",
       "      <td>http://sharkattackfile.net/spreadsheets/pdf_directory/2018.06.03.a-daSilva.pdf</td>\n",
       "      <td>Jun</td>\n",
       "    </tr>\n",
       "    <tr>\n",
       "      <th>7</th>\n",
       "      <td>27-May-2018</td>\n",
       "      <td>2018.0</td>\n",
       "      <td>Unprovoked</td>\n",
       "      <td>USA</td>\n",
       "      <td>Florida</td>\n",
       "      <td>Lighhouse Point Park, Ponce Inlet, Volusia County</td>\n",
       "      <td>Fishing</td>\n",
       "      <td>male</td>\n",
       "      <td>52.0</td>\n",
       "      <td>M</td>\n",
       "      <td>Minor injury to foot. PROVOKED INCIDENT</td>\n",
       "      <td>N</td>\n",
       "      <td>NaN</td>\n",
       "      <td>Lemon shark, 3'</td>\n",
       "      <td>http://sharkattackfile.net/spreadsheets/pdf_directory/2018.05.27-Ponce.pdf</td>\n",
       "      <td>May</td>\n",
       "    </tr>\n",
       "  </tbody>\n",
       "</table>\n",
       "</div>"
      ],
      "text/plain": [
       "          Date    Year Accident Type Country        Area  \\\n",
       "0  25-Jun-2018  2018.0  Boating       USA     California   \n",
       "1  18-Jun-2018  2018.0  Unprovoked    USA     Georgia      \n",
       "2  09-Jun-2018  2018.0  Invalid       USA     Hawaii       \n",
       "6  03-Jun-2018  2018.0  Unprovoked    BRAZIL  Pernambuco   \n",
       "7  27-May-2018  2018.0  Unprovoked    USA     Florida      \n",
       "\n",
       "                                            Location  Activity  \\\n",
       "0  Oceanside, San Diego County                        Paddling   \n",
       "1  St. Simon Island, Glynn County                     Standing   \n",
       "2  Habush, Oahu                                       Surfing    \n",
       "6  Piedade Beach, Recife                              Swimming   \n",
       "7  Lighhouse Point Park, Ponce Inlet, Volusia County  Fishing    \n",
       "\n",
       "                     Name   Age Sex   \\\n",
       "0  Julie Wolfe             57.0  F     \n",
       "1  Adyson McNeely          11.0  F     \n",
       "2  John Denges             48.0  M     \n",
       "6  Jose Ernesto da Silva   18.0  M     \n",
       "7  male                    52.0  M     \n",
       "\n",
       "                                                      Injury Fatal (Y/N)  \\\n",
       "0  No injury to occupant, outrigger canoe and paddle damaged  N            \n",
       "1  Minor injury to left thigh                                 N            \n",
       "2  Injury to left lower leg from surfboard skeg               N            \n",
       "6  FATAL                                                      Y            \n",
       "7  Minor injury to foot. PROVOKED INCIDENT                    N            \n",
       "\n",
       "             Time         Species   \\\n",
       "0  18h00           White shark       \n",
       "1  14h00  -15h00   NaN               \n",
       "2  07h45           NaN               \n",
       "6  Late afternoon  Tiger shark       \n",
       "7  NaN             Lemon shark, 3'   \n",
       "\n",
       "                                                                    Accident Link  \\\n",
       "0  http://sharkattackfile.net/spreadsheets/pdf_directory/2018.06.25-Wolfe.pdf       \n",
       "1  http://sharkattackfile.net/spreadsheets/pdf_directory/2018.06.18-McNeely.pdf     \n",
       "2  http://sharkattackfile.net/spreadsheets/pdf_directory/2018.06.09-Denges.pdf      \n",
       "6  http://sharkattackfile.net/spreadsheets/pdf_directory/2018.06.03.a-daSilva.pdf   \n",
       "7  http://sharkattackfile.net/spreadsheets/pdf_directory/2018.05.27-Ponce.pdf       \n",
       "\n",
       "  Month  \n",
       "0  Jun   \n",
       "1  Jun   \n",
       "2  Jun   \n",
       "6  Jun   \n",
       "7  May   "
      ]
     },
     "execution_count": 296,
     "metadata": {},
     "output_type": "execute_result"
    }
   ],
   "source": [
    "db2.head()"
   ]
  },
  {
   "cell_type": "code",
   "execution_count": 297,
   "metadata": {
    "ExecuteTime": {
     "end_time": "2021-01-25T12:49:28.373103Z",
     "start_time": "2021-01-25T12:49:28.368589Z"
    },
    "hidden": true
   },
   "outputs": [],
   "source": [
    "db2 = db2.drop(columns=['Date'])"
   ]
  },
  {
   "cell_type": "code",
   "execution_count": 298,
   "metadata": {
    "ExecuteTime": {
     "end_time": "2021-01-25T12:49:46.465140Z",
     "start_time": "2021-01-25T12:49:46.460125Z"
    },
    "hidden": true
   },
   "outputs": [
    {
     "data": {
      "text/plain": [
       "Index(['Year', 'Accident Type', 'Country', 'Area', 'Location', 'Activity',\n",
       "       'Name', 'Age', 'Sex ', 'Injury', 'Fatal (Y/N)', 'Time', 'Species ',\n",
       "       'Accident Link', 'Month'],\n",
       "      dtype='object')"
      ]
     },
     "execution_count": 298,
     "metadata": {},
     "output_type": "execute_result"
    }
   ],
   "source": [
    "db2.columns"
   ]
  },
  {
   "cell_type": "code",
   "execution_count": 300,
   "metadata": {
    "ExecuteTime": {
     "end_time": "2021-01-25T12:50:42.009008Z",
     "start_time": "2021-01-25T12:50:42.003492Z"
    },
    "hidden": true
   },
   "outputs": [],
   "source": [
    "db2 = db2[['Month', 'Year', 'Accident Type', 'Country', 'Area', 'Location', 'Activity',\n",
    "       'Name', 'Age', 'Sex ', 'Injury', 'Fatal (Y/N)', 'Time', 'Species ',\n",
    "       'Accident Link']]"
   ]
  },
  {
   "cell_type": "code",
   "execution_count": 301,
   "metadata": {
    "ExecuteTime": {
     "end_time": "2021-01-25T12:51:27.286491Z",
     "start_time": "2021-01-25T12:51:27.265428Z"
    },
    "hidden": true
   },
   "outputs": [
    {
     "data": {
      "text/html": [
       "<div>\n",
       "<style scoped>\n",
       "    .dataframe tbody tr th:only-of-type {\n",
       "        vertical-align: middle;\n",
       "    }\n",
       "\n",
       "    .dataframe tbody tr th {\n",
       "        vertical-align: top;\n",
       "    }\n",
       "\n",
       "    .dataframe thead th {\n",
       "        text-align: right;\n",
       "    }\n",
       "</style>\n",
       "<table border=\"1\" class=\"dataframe\">\n",
       "  <thead>\n",
       "    <tr style=\"text-align: right;\">\n",
       "      <th></th>\n",
       "      <th>Month</th>\n",
       "      <th>Year</th>\n",
       "      <th>Accident Type</th>\n",
       "      <th>Country</th>\n",
       "      <th>Area</th>\n",
       "      <th>Location</th>\n",
       "      <th>Activity</th>\n",
       "      <th>Name</th>\n",
       "      <th>Age</th>\n",
       "      <th>Sex</th>\n",
       "      <th>Injury</th>\n",
       "      <th>Fatal (Y/N)</th>\n",
       "      <th>Time</th>\n",
       "      <th>Species</th>\n",
       "      <th>Accident Link</th>\n",
       "    </tr>\n",
       "  </thead>\n",
       "  <tbody>\n",
       "    <tr>\n",
       "      <th>0</th>\n",
       "      <td>Jun</td>\n",
       "      <td>2018.0</td>\n",
       "      <td>Boating</td>\n",
       "      <td>USA</td>\n",
       "      <td>California</td>\n",
       "      <td>Oceanside, San Diego County</td>\n",
       "      <td>Paddling</td>\n",
       "      <td>Julie Wolfe</td>\n",
       "      <td>57.0</td>\n",
       "      <td>F</td>\n",
       "      <td>No injury to occupant, outrigger canoe and paddle damaged</td>\n",
       "      <td>N</td>\n",
       "      <td>18h00</td>\n",
       "      <td>White shark</td>\n",
       "      <td>http://sharkattackfile.net/spreadsheets/pdf_directory/2018.06.25-Wolfe.pdf</td>\n",
       "    </tr>\n",
       "    <tr>\n",
       "      <th>1</th>\n",
       "      <td>Jun</td>\n",
       "      <td>2018.0</td>\n",
       "      <td>Unprovoked</td>\n",
       "      <td>USA</td>\n",
       "      <td>Georgia</td>\n",
       "      <td>St. Simon Island, Glynn County</td>\n",
       "      <td>Standing</td>\n",
       "      <td>Adyson McNeely</td>\n",
       "      <td>11.0</td>\n",
       "      <td>F</td>\n",
       "      <td>Minor injury to left thigh</td>\n",
       "      <td>N</td>\n",
       "      <td>14h00  -15h00</td>\n",
       "      <td>NaN</td>\n",
       "      <td>http://sharkattackfile.net/spreadsheets/pdf_directory/2018.06.18-McNeely.pdf</td>\n",
       "    </tr>\n",
       "    <tr>\n",
       "      <th>2</th>\n",
       "      <td>Jun</td>\n",
       "      <td>2018.0</td>\n",
       "      <td>Invalid</td>\n",
       "      <td>USA</td>\n",
       "      <td>Hawaii</td>\n",
       "      <td>Habush, Oahu</td>\n",
       "      <td>Surfing</td>\n",
       "      <td>John Denges</td>\n",
       "      <td>48.0</td>\n",
       "      <td>M</td>\n",
       "      <td>Injury to left lower leg from surfboard skeg</td>\n",
       "      <td>N</td>\n",
       "      <td>07h45</td>\n",
       "      <td>NaN</td>\n",
       "      <td>http://sharkattackfile.net/spreadsheets/pdf_directory/2018.06.09-Denges.pdf</td>\n",
       "    </tr>\n",
       "    <tr>\n",
       "      <th>6</th>\n",
       "      <td>Jun</td>\n",
       "      <td>2018.0</td>\n",
       "      <td>Unprovoked</td>\n",
       "      <td>BRAZIL</td>\n",
       "      <td>Pernambuco</td>\n",
       "      <td>Piedade Beach, Recife</td>\n",
       "      <td>Swimming</td>\n",
       "      <td>Jose Ernesto da Silva</td>\n",
       "      <td>18.0</td>\n",
       "      <td>M</td>\n",
       "      <td>FATAL</td>\n",
       "      <td>Y</td>\n",
       "      <td>Late afternoon</td>\n",
       "      <td>Tiger shark</td>\n",
       "      <td>http://sharkattackfile.net/spreadsheets/pdf_directory/2018.06.03.a-daSilva.pdf</td>\n",
       "    </tr>\n",
       "    <tr>\n",
       "      <th>7</th>\n",
       "      <td>May</td>\n",
       "      <td>2018.0</td>\n",
       "      <td>Unprovoked</td>\n",
       "      <td>USA</td>\n",
       "      <td>Florida</td>\n",
       "      <td>Lighhouse Point Park, Ponce Inlet, Volusia County</td>\n",
       "      <td>Fishing</td>\n",
       "      <td>male</td>\n",
       "      <td>52.0</td>\n",
       "      <td>M</td>\n",
       "      <td>Minor injury to foot. PROVOKED INCIDENT</td>\n",
       "      <td>N</td>\n",
       "      <td>NaN</td>\n",
       "      <td>Lemon shark, 3'</td>\n",
       "      <td>http://sharkattackfile.net/spreadsheets/pdf_directory/2018.05.27-Ponce.pdf</td>\n",
       "    </tr>\n",
       "  </tbody>\n",
       "</table>\n",
       "</div>"
      ],
      "text/plain": [
       "  Month    Year Accident Type Country        Area  \\\n",
       "0  Jun   2018.0  Boating       USA     California   \n",
       "1  Jun   2018.0  Unprovoked    USA     Georgia      \n",
       "2  Jun   2018.0  Invalid       USA     Hawaii       \n",
       "6  Jun   2018.0  Unprovoked    BRAZIL  Pernambuco   \n",
       "7  May   2018.0  Unprovoked    USA     Florida      \n",
       "\n",
       "                                            Location  Activity  \\\n",
       "0  Oceanside, San Diego County                        Paddling   \n",
       "1  St. Simon Island, Glynn County                     Standing   \n",
       "2  Habush, Oahu                                       Surfing    \n",
       "6  Piedade Beach, Recife                              Swimming   \n",
       "7  Lighhouse Point Park, Ponce Inlet, Volusia County  Fishing    \n",
       "\n",
       "                     Name   Age Sex   \\\n",
       "0  Julie Wolfe             57.0  F     \n",
       "1  Adyson McNeely          11.0  F     \n",
       "2  John Denges             48.0  M     \n",
       "6  Jose Ernesto da Silva   18.0  M     \n",
       "7  male                    52.0  M     \n",
       "\n",
       "                                                      Injury Fatal (Y/N)  \\\n",
       "0  No injury to occupant, outrigger canoe and paddle damaged  N            \n",
       "1  Minor injury to left thigh                                 N            \n",
       "2  Injury to left lower leg from surfboard skeg               N            \n",
       "6  FATAL                                                      Y            \n",
       "7  Minor injury to foot. PROVOKED INCIDENT                    N            \n",
       "\n",
       "             Time         Species   \\\n",
       "0  18h00           White shark       \n",
       "1  14h00  -15h00   NaN               \n",
       "2  07h45           NaN               \n",
       "6  Late afternoon  Tiger shark       \n",
       "7  NaN             Lemon shark, 3'   \n",
       "\n",
       "                                                                    Accident Link  \n",
       "0  http://sharkattackfile.net/spreadsheets/pdf_directory/2018.06.25-Wolfe.pdf      \n",
       "1  http://sharkattackfile.net/spreadsheets/pdf_directory/2018.06.18-McNeely.pdf    \n",
       "2  http://sharkattackfile.net/spreadsheets/pdf_directory/2018.06.09-Denges.pdf     \n",
       "6  http://sharkattackfile.net/spreadsheets/pdf_directory/2018.06.03.a-daSilva.pdf  \n",
       "7  http://sharkattackfile.net/spreadsheets/pdf_directory/2018.05.27-Ponce.pdf      "
      ]
     },
     "execution_count": 301,
     "metadata": {},
     "output_type": "execute_result"
    }
   ],
   "source": [
    "db2.head()"
   ]
  },
  {
   "cell_type": "code",
   "execution_count": 302,
   "metadata": {
    "ExecuteTime": {
     "end_time": "2021-01-25T12:52:12.442620Z",
     "start_time": "2021-01-25T12:52:12.424566Z"
    },
    "hidden": true
   },
   "outputs": [
    {
     "name": "stdout",
     "output_type": "stream",
     "text": [
      "<class 'pandas.core.frame.DataFrame'>\n",
      "Int64Index: 3422 entries, 0 to 6301\n",
      "Data columns (total 15 columns):\n",
      " #   Column         Non-Null Count  Dtype  \n",
      "---  ------         --------------  -----  \n",
      " 0   Month          3422 non-null   object \n",
      " 1   Year           3421 non-null   float64\n",
      " 2   Accident Type  3421 non-null   object \n",
      " 3   Country        3413 non-null   object \n",
      " 4   Area           3305 non-null   object \n",
      " 5   Location       3274 non-null   object \n",
      " 6   Activity       3288 non-null   object \n",
      " 7   Name           3411 non-null   object \n",
      " 8   Age            3422 non-null   float64\n",
      " 9   Sex            3387 non-null   object \n",
      " 10  Injury         3417 non-null   object \n",
      " 11  Fatal (Y/N)    3201 non-null   object \n",
      " 12  Time           2335 non-null   object \n",
      " 13  Species        2168 non-null   object \n",
      " 14  Accident Link  3422 non-null   object \n",
      "dtypes: float64(2), object(13)\n",
      "memory usage: 587.8+ KB\n"
     ]
    }
   ],
   "source": [
    "db2.info()"
   ]
  },
  {
   "cell_type": "markdown",
   "metadata": {
    "heading_collapsed": true,
    "hidden": true
   },
   "source": [
    "## Keeping records of only the last 20 years"
   ]
  },
  {
   "cell_type": "code",
   "execution_count": 315,
   "metadata": {
    "ExecuteTime": {
     "end_time": "2021-01-25T13:17:55.441439Z",
     "start_time": "2021-01-25T13:17:55.435925Z"
    },
    "hidden": true
   },
   "outputs": [],
   "source": [
    "year_indexes = db2[(db2['Year'] > 1702) & (db2['Year'] < 2001)].index "
   ]
  },
  {
   "cell_type": "code",
   "execution_count": 316,
   "metadata": {
    "ExecuteTime": {
     "end_time": "2021-01-25T13:18:49.821476Z",
     "start_time": "2021-01-25T13:18:49.816463Z"
    },
    "hidden": true
   },
   "outputs": [],
   "source": [
    "db2 = db2.drop(year_indexes)"
   ]
  },
  {
   "cell_type": "code",
   "execution_count": 317,
   "metadata": {
    "ExecuteTime": {
     "end_time": "2021-01-25T13:19:04.906781Z",
     "start_time": "2021-01-25T13:19:04.896253Z"
    },
    "hidden": true
   },
   "outputs": [
    {
     "name": "stdout",
     "output_type": "stream",
     "text": [
      "<class 'pandas.core.frame.DataFrame'>\n",
      "Int64Index: 1481 entries, 0 to 6301\n",
      "Data columns (total 15 columns):\n",
      " #   Column         Non-Null Count  Dtype  \n",
      "---  ------         --------------  -----  \n",
      " 0   Month          1481 non-null   object \n",
      " 1   Year           1480 non-null   float64\n",
      " 2   Accident Type  1480 non-null   object \n",
      " 3   Country        1480 non-null   object \n",
      " 4   Area           1441 non-null   object \n",
      " 5   Location       1432 non-null   object \n",
      " 6   Activity       1441 non-null   object \n",
      " 7   Name           1474 non-null   object \n",
      " 8   Age            1481 non-null   float64\n",
      " 9   Sex            1476 non-null   object \n",
      " 10  Injury         1481 non-null   object \n",
      " 11  Fatal (Y/N)    1381 non-null   object \n",
      " 12  Time           1174 non-null   object \n",
      " 13  Species        985 non-null    object \n",
      " 14  Accident Link  1481 non-null   object \n",
      "dtypes: float64(2), object(13)\n",
      "memory usage: 225.1+ KB\n"
     ]
    }
   ],
   "source": [
    "db2.info()"
   ]
  },
  {
   "cell_type": "markdown",
   "metadata": {
    "heading_collapsed": true,
    "hidden": true
   },
   "source": [
    "## Creating Quarter column"
   ]
  },
  {
   "cell_type": "code",
   "execution_count": 339,
   "metadata": {
    "ExecuteTime": {
     "end_time": "2021-01-25T14:26:15.776586Z",
     "start_time": "2021-01-25T14:26:15.772073Z"
    },
    "hidden": true
   },
   "outputs": [],
   "source": [
    "def quarter(m):\n",
    "    if m == 'Jan' or m == 'Feb' or m == 'Mar':\n",
    "        return 'Q1'\n",
    "    elif m == 'Apr' or m == 'May' or m == 'Jun':\n",
    "        return 'Q2'\n",
    "    elif m == 'Jul' or m == 'Aug' or m == 'Sep':\n",
    "        return 'Q3'\n",
    "    elif m == 'Oct' or m == 'Nov' or m == 'Dec':\n",
    "        return 'Q4'\n",
    "    else:\n",
    "        return 'NaN'"
   ]
  },
  {
   "cell_type": "code",
   "execution_count": 341,
   "metadata": {
    "ExecuteTime": {
     "end_time": "2021-01-25T14:26:37.095546Z",
     "start_time": "2021-01-25T14:26:37.076494Z"
    },
    "hidden": true
   },
   "outputs": [
    {
     "data": {
      "text/html": [
       "<div>\n",
       "<style scoped>\n",
       "    .dataframe tbody tr th:only-of-type {\n",
       "        vertical-align: middle;\n",
       "    }\n",
       "\n",
       "    .dataframe tbody tr th {\n",
       "        vertical-align: top;\n",
       "    }\n",
       "\n",
       "    .dataframe thead th {\n",
       "        text-align: right;\n",
       "    }\n",
       "</style>\n",
       "<table border=\"1\" class=\"dataframe\">\n",
       "  <thead>\n",
       "    <tr style=\"text-align: right;\">\n",
       "      <th></th>\n",
       "      <th>Month</th>\n",
       "      <th>Year</th>\n",
       "      <th>Accident Type</th>\n",
       "      <th>Country</th>\n",
       "      <th>Area</th>\n",
       "      <th>Location</th>\n",
       "      <th>Activity</th>\n",
       "      <th>Name</th>\n",
       "      <th>Age</th>\n",
       "      <th>Sex</th>\n",
       "      <th>Injury</th>\n",
       "      <th>Fatal (Y/N)</th>\n",
       "      <th>Time</th>\n",
       "      <th>Species</th>\n",
       "      <th>Accident Link</th>\n",
       "      <th>Quarter</th>\n",
       "    </tr>\n",
       "  </thead>\n",
       "  <tbody>\n",
       "    <tr>\n",
       "      <th>0</th>\n",
       "      <td>Jun</td>\n",
       "      <td>2018.0</td>\n",
       "      <td>Boating</td>\n",
       "      <td>USA</td>\n",
       "      <td>California</td>\n",
       "      <td>Oceanside, San Diego County</td>\n",
       "      <td>Paddling</td>\n",
       "      <td>Julie Wolfe</td>\n",
       "      <td>57.0</td>\n",
       "      <td>F</td>\n",
       "      <td>No injury to occupant, outrigger canoe and paddle damaged</td>\n",
       "      <td>N</td>\n",
       "      <td>18h00</td>\n",
       "      <td>White shark</td>\n",
       "      <td>http://sharkattackfile.net/spreadsheets/pdf_directory/2018.06.25-Wolfe.pdf</td>\n",
       "      <td>Q2</td>\n",
       "    </tr>\n",
       "    <tr>\n",
       "      <th>1</th>\n",
       "      <td>Jun</td>\n",
       "      <td>2018.0</td>\n",
       "      <td>Unprovoked</td>\n",
       "      <td>USA</td>\n",
       "      <td>Georgia</td>\n",
       "      <td>St. Simon Island, Glynn County</td>\n",
       "      <td>Standing</td>\n",
       "      <td>Adyson McNeely</td>\n",
       "      <td>11.0</td>\n",
       "      <td>F</td>\n",
       "      <td>Minor injury to left thigh</td>\n",
       "      <td>N</td>\n",
       "      <td>14h00  -15h00</td>\n",
       "      <td>NaN</td>\n",
       "      <td>http://sharkattackfile.net/spreadsheets/pdf_directory/2018.06.18-McNeely.pdf</td>\n",
       "      <td>Q2</td>\n",
       "    </tr>\n",
       "    <tr>\n",
       "      <th>2</th>\n",
       "      <td>Jun</td>\n",
       "      <td>2018.0</td>\n",
       "      <td>Invalid</td>\n",
       "      <td>USA</td>\n",
       "      <td>Hawaii</td>\n",
       "      <td>Habush, Oahu</td>\n",
       "      <td>Surfing</td>\n",
       "      <td>John Denges</td>\n",
       "      <td>48.0</td>\n",
       "      <td>M</td>\n",
       "      <td>Injury to left lower leg from surfboard skeg</td>\n",
       "      <td>N</td>\n",
       "      <td>07h45</td>\n",
       "      <td>NaN</td>\n",
       "      <td>http://sharkattackfile.net/spreadsheets/pdf_directory/2018.06.09-Denges.pdf</td>\n",
       "      <td>Q2</td>\n",
       "    </tr>\n",
       "  </tbody>\n",
       "</table>\n",
       "</div>"
      ],
      "text/plain": [
       "  Month    Year Accident Type Country        Area  \\\n",
       "0  Jun   2018.0  Boating       USA     California   \n",
       "1  Jun   2018.0  Unprovoked    USA     Georgia      \n",
       "2  Jun   2018.0  Invalid       USA     Hawaii       \n",
       "\n",
       "                         Location  Activity             Name   Age Sex   \\\n",
       "0  Oceanside, San Diego County     Paddling  Julie Wolfe      57.0  F     \n",
       "1  St. Simon Island, Glynn County  Standing  Adyson McNeely   11.0  F     \n",
       "2  Habush, Oahu                    Surfing   John Denges      48.0  M     \n",
       "\n",
       "                                                      Injury Fatal (Y/N)  \\\n",
       "0  No injury to occupant, outrigger canoe and paddle damaged  N            \n",
       "1  Minor injury to left thigh                                 N            \n",
       "2  Injury to left lower leg from surfboard skeg               N            \n",
       "\n",
       "            Time     Species   \\\n",
       "0  18h00          White shark   \n",
       "1  14h00  -15h00  NaN           \n",
       "2  07h45          NaN           \n",
       "\n",
       "                                                                  Accident Link  \\\n",
       "0  http://sharkattackfile.net/spreadsheets/pdf_directory/2018.06.25-Wolfe.pdf     \n",
       "1  http://sharkattackfile.net/spreadsheets/pdf_directory/2018.06.18-McNeely.pdf   \n",
       "2  http://sharkattackfile.net/spreadsheets/pdf_directory/2018.06.09-Denges.pdf    \n",
       "\n",
       "  Quarter  \n",
       "0  Q2      \n",
       "1  Q2      \n",
       "2  Q2      "
      ]
     },
     "execution_count": 341,
     "metadata": {},
     "output_type": "execute_result"
    }
   ],
   "source": [
    "db2['Quarter'] = db2['Month'].apply(quarter)\n",
    "db2.head(3)"
   ]
  },
  {
   "cell_type": "code",
   "execution_count": 342,
   "metadata": {
    "ExecuteTime": {
     "end_time": "2021-01-25T14:27:22.441702Z",
     "start_time": "2021-01-25T14:27:22.437691Z"
    },
    "hidden": true
   },
   "outputs": [
    {
     "data": {
      "text/plain": [
       "Index(['Month', 'Year', 'Accident Type', 'Country', 'Area', 'Location',\n",
       "       'Activity', 'Name', 'Age', 'Sex ', 'Injury', 'Fatal (Y/N)', 'Time',\n",
       "       'Species ', 'Accident Link', 'Quarter'],\n",
       "      dtype='object')"
      ]
     },
     "execution_count": 342,
     "metadata": {},
     "output_type": "execute_result"
    }
   ],
   "source": [
    "db2.columns"
   ]
  },
  {
   "cell_type": "code",
   "execution_count": 343,
   "metadata": {
    "ExecuteTime": {
     "end_time": "2021-01-25T14:29:18.239620Z",
     "start_time": "2021-01-25T14:29:18.233604Z"
    },
    "hidden": true
   },
   "outputs": [],
   "source": [
    "db2 = db2[['Month', 'Quarter', 'Year', 'Accident Type', 'Country', 'Area', 'Location',\n",
    "       'Activity', 'Name', 'Age', 'Sex ', 'Injury', 'Fatal (Y/N)', 'Time',\n",
    "       'Species ']]"
   ]
  },
  {
   "cell_type": "markdown",
   "metadata": {},
   "source": [
    "# Analyzing Data"
   ]
  },
  {
   "cell_type": "markdown",
   "metadata": {
    "ExecuteTime": {
     "end_time": "2021-01-25T14:48:35.824752Z",
     "start_time": "2021-01-25T14:48:35.821743Z"
    },
    "heading_collapsed": true
   },
   "source": [
    "## Analysis by quarter"
   ]
  },
  {
   "cell_type": "code",
   "execution_count": 382,
   "metadata": {
    "ExecuteTime": {
     "end_time": "2021-01-25T19:05:05.670755Z",
     "start_time": "2021-01-25T19:05:05.666244Z"
    },
    "hidden": true
   },
   "outputs": [
    {
     "data": {
      "text/plain": [
       "['Q1', 'Q2', 'Q3', 'Q4']"
      ]
     },
     "execution_count": 382,
     "metadata": {},
     "output_type": "execute_result"
    }
   ],
   "source": [
    "quarter_list = ['Q1', 'Q2', 'Q3', 'Q4']\n",
    "quarter_list"
   ]
  },
  {
   "cell_type": "code",
   "execution_count": 378,
   "metadata": {
    "ExecuteTime": {
     "end_time": "2021-01-25T18:56:05.494071Z",
     "start_time": "2021-01-25T18:56:05.487552Z"
    },
    "hidden": true
   },
   "outputs": [
    {
     "data": {
      "text/plain": [
       "Q3     472\n",
       "Q2     412\n",
       "Q4     295\n",
       "Q1     247\n",
       "NaN    55 \n",
       "Name: Quarter, dtype: int64"
      ]
     },
     "execution_count": 378,
     "metadata": {},
     "output_type": "execute_result"
    }
   ],
   "source": [
    "quarter_test = db2['Quarter'].value_counts()\n",
    "quarter_test"
   ]
  },
  {
   "cell_type": "code",
   "execution_count": 364,
   "metadata": {
    "ExecuteTime": {
     "end_time": "2021-01-25T15:00:54.586628Z",
     "start_time": "2021-01-25T15:00:54.582116Z"
    },
    "hidden": true
   },
   "outputs": [],
   "source": [
    "quarter_values = []\n",
    "for i in quarter_list:\n",
    "    value = quarter_test.loc[quarter_test.index.isin([i])]\n",
    "    quarter_values.append(value.item())"
   ]
  },
  {
   "cell_type": "code",
   "execution_count": 365,
   "metadata": {
    "ExecuteTime": {
     "end_time": "2021-01-25T15:01:09.593223Z",
     "start_time": "2021-01-25T15:01:09.589713Z"
    },
    "hidden": true
   },
   "outputs": [
    {
     "data": {
      "text/plain": [
       "[247, 412, 472, 295]"
      ]
     },
     "execution_count": 365,
     "metadata": {},
     "output_type": "execute_result"
    }
   ],
   "source": [
    "quarter_values"
   ]
  },
  {
   "cell_type": "code",
   "execution_count": 366,
   "metadata": {
    "ExecuteTime": {
     "end_time": "2021-01-25T15:02:00.444588Z",
     "start_time": "2021-01-25T15:02:00.334293Z"
    },
    "hidden": true
   },
   "outputs": [
    {
     "data": {
      "image/png": "[encoded data removed]",
      "text/plain": [
       "<Figure size 432x288 with 1 Axes>"
      ]
     },
     "metadata": {
      "needs_background": "light"
     },
     "output_type": "display_data"
    }
   ],
   "source": [
    "plt.plot(quarter_list, quarter_values)\n",
    "plt.show()"
   ]
  },
  {
   "cell_type": "markdown",
   "metadata": {
    "heading_collapsed": true
   },
   "source": [
    "## Analysis by year"
   ]
  },
  {
   "cell_type": "code",
   "execution_count": 383,
   "metadata": {
    "ExecuteTime": {
     "end_time": "2021-01-25T19:05:17.103448Z",
     "start_time": "2021-01-25T19:05:17.098434Z"
    },
    "hidden": true
   },
   "outputs": [
    {
     "data": {
      "text/plain": [
       "[2001.0,\n",
       " 2002.0,\n",
       " 2003.0,\n",
       " 2004.0,\n",
       " 2005.0,\n",
       " 2006.0,\n",
       " 2007.0,\n",
       " 2008.0,\n",
       " 2009.0,\n",
       " 2010.0,\n",
       " 2011.0,\n",
       " 2012.0,\n",
       " 2013.0,\n",
       " 2014.0,\n",
       " 2015.0,\n",
       " 2016.0,\n",
       " 2017.0,\n",
       " 2018.0]"
      ]
     },
     "execution_count": 383,
     "metadata": {},
     "output_type": "execute_result"
    }
   ],
   "source": [
    "year_list = db2['Year'].tolist()\n",
    "year_list = set(year_list)\n",
    "year_list = list(year_list)\n",
    "year_list = year_list[2:]\n",
    "year_list"
   ]
  },
  {
   "cell_type": "code",
   "execution_count": 379,
   "metadata": {
    "ExecuteTime": {
     "end_time": "2021-01-25T18:56:15.756124Z",
     "start_time": "2021-01-25T18:56:15.748604Z"
    },
    "hidden": true
   },
   "outputs": [
    {
     "data": {
      "text/plain": [
       "2015.0    117\n",
       "2016.0    99 \n",
       "2012.0    97 \n",
       "2011.0    96 \n",
       "2013.0    94 \n",
       "2008.0    91 \n",
       "2017.0    89 \n",
       "2009.0    82 \n",
       "2007.0    82 \n",
       "2006.0    80 \n",
       "2014.0    79 \n",
       "2002.0    77 \n",
       "2005.0    74 \n",
       "2010.0    72 \n",
       "2003.0    70 \n",
       "2001.0    66 \n",
       "2004.0    63 \n",
       "2018.0    39 \n",
       "0.0       13 \n",
       "Name: Year, dtype: int64"
      ]
     },
     "execution_count": 379,
     "metadata": {},
     "output_type": "execute_result"
    }
   ],
   "source": [
    "year_count = db2['Year'].value_counts() \n",
    "year_count"
   ]
  },
  {
   "cell_type": "code",
   "execution_count": 377,
   "metadata": {
    "ExecuteTime": {
     "end_time": "2021-01-25T18:55:14.351769Z",
     "start_time": "2021-01-25T18:55:14.348260Z"
    },
    "hidden": true
   },
   "outputs": [
    {
     "name": "stdout",
     "output_type": "stream",
     "text": [
      "117\n",
      "99\n",
      "97\n",
      "96\n",
      "94\n",
      "91\n",
      "89\n",
      "82\n",
      "82\n",
      "80\n",
      "79\n",
      "77\n",
      "74\n",
      "72\n",
      "70\n",
      "66\n",
      "63\n",
      "39\n",
      "13\n"
     ]
    }
   ],
   "source": [
    "for i in year_count:\n",
    "    print(i)"
   ]
  },
  {
   "cell_type": "code",
   "execution_count": 384,
   "metadata": {
    "ExecuteTime": {
     "end_time": "2021-01-25T19:06:00.885496Z",
     "start_time": "2021-01-25T19:06:00.875970Z"
    },
    "hidden": true
   },
   "outputs": [],
   "source": [
    "year_values = []\n",
    "for i in year_list:\n",
    "    i =str(i)\n",
    "    value = year_count.loc[year_count.index.isin([i])]\n",
    "    year_values.append(value.item())"
   ]
  },
  {
   "cell_type": "code",
   "execution_count": 385,
   "metadata": {
    "ExecuteTime": {
     "end_time": "2021-01-25T19:06:22.407775Z",
     "start_time": "2021-01-25T19:06:22.403764Z"
    },
    "hidden": true
   },
   "outputs": [
    {
     "data": {
      "text/plain": [
       "[66, 77, 70, 63, 74, 80, 82, 91, 82, 72, 96, 97, 94, 79, 117, 99, 89, 39]"
      ]
     },
     "execution_count": 385,
     "metadata": {},
     "output_type": "execute_result"
    }
   ],
   "source": [
    "year_values"
   ]
  },
  {
   "cell_type": "code",
   "execution_count": 386,
   "metadata": {
    "ExecuteTime": {
     "end_time": "2021-01-25T19:08:18.504462Z",
     "start_time": "2021-01-25T19:08:18.351051Z"
    },
    "hidden": true
   },
   "outputs": [
    {
     "data": {
      "image/png": "[encoded data removed]",
      "text/plain": [
       "<Figure size 432x288 with 1 Axes>"
      ]
     },
     "metadata": {
      "needs_background": "light"
     },
     "output_type": "display_data"
    }
   ],
   "source": [
    "plt.plot(year_list, year_values)\n",
    "plt.show()"
   ]
  },
  {
   "cell_type": "markdown",
   "metadata": {},
   "source": [
    "## Analysis by activity"
   ]
  },
  {
   "cell_type": "code",
   "execution_count": 390,
   "metadata": {
    "ExecuteTime": {
     "end_time": "2021-01-25T19:39:15.141609Z",
     "start_time": "2021-01-25T19:39:15.132084Z"
    }
   },
   "outputs": [],
   "source": [
    "activity_values = db2['Activity'].value_counts(normalize=True) "
   ]
  },
  {
   "cell_type": "code",
   "execution_count": 391,
   "metadata": {
    "ExecuteTime": {
     "end_time": "2021-01-25T19:39:51.421041Z",
     "start_time": "2021-01-25T19:39:51.415527Z"
    }
   },
   "outputs": [],
   "source": [
    "activity_list = ['Surfing', 'Swimming', 'Spearfishing', 'Wading', 'Snorkeling']\n",
    "activity_count = []\n",
    "for i in activity_list:\n",
    "    value = activity_values.loc[activity_values.index.isin([i])]\n",
    "    activity_count.append(value.item())"
   ]
  },
  {
   "cell_type": "code",
   "execution_count": 396,
   "metadata": {
    "ExecuteTime": {
     "end_time": "2021-01-25T19:44:42.528380Z",
     "start_time": "2021-01-25T19:44:42.522865Z"
    }
   },
   "outputs": [
    {
     "data": {
      "text/plain": [
       "[54, 24, 9, 7, 6]"
      ]
     },
     "execution_count": 396,
     "metadata": {},
     "output_type": "execute_result"
    }
   ],
   "source": [
    "sum(activity_count)\n",
    "activity_newvalues = []\n",
    "for num in activity_count:\n",
    "    percent = (num * 1) / sum(activity_count) \n",
    "    percent = int(round(percent * 100, 0))\n",
    "    activity_newvalues.append(percent)    \n",
    "activity_newvalues"
   ]
  },
  {
   "cell_type": "code",
   "execution_count": 398,
   "metadata": {
    "ExecuteTime": {
     "end_time": "2021-01-25T19:46:05.014269Z",
     "start_time": "2021-01-25T19:46:04.949096Z"
    }
   },
   "outputs": [
    {
     "data": {
      "image/png": "[encoded data removed]",
      "text/plain": [
       "<Figure size 432x288 with 1 Axes>"
      ]
     },
     "metadata": {},
     "output_type": "display_data"
    }
   ],
   "source": [
    "plt.pie(activity_newvalues, labels=activity_list)\n",
    "plt.show()"
   ]
  },
  {
   "cell_type": "markdown",
   "metadata": {},
   "source": [
    "## Analysis by country"
   ]
  },
  {
   "cell_type": "code",
   "execution_count": 401,
   "metadata": {
    "ExecuteTime": {
     "end_time": "2021-01-25T19:55:51.969420Z",
     "start_time": "2021-01-25T19:55:51.963904Z"
    }
   },
   "outputs": [],
   "source": [
    "country_values = db2['Country'].value_counts(normalize=True) "
   ]
  },
  {
   "cell_type": "code",
   "execution_count": 408,
   "metadata": {
    "ExecuteTime": {
     "end_time": "2021-01-25T20:12:05.294126Z",
     "start_time": "2021-01-25T20:12:05.289112Z"
    }
   },
   "outputs": [],
   "source": [
    "country_list = ['USA', 'AUSTRALIA', 'SOUTH AFRICA', 'BRAZIL', 'BAHAMAS']\n",
    "country_count = []\n",
    "for i in country_list:\n",
    "    value = country_values.loc[country_values.index.isin([i])]\n",
    "    country_count.append(value.item())"
   ]
  },
  {
   "cell_type": "code",
   "execution_count": 411,
   "metadata": {
    "ExecuteTime": {
     "end_time": "2021-01-25T20:12:35.822583Z",
     "start_time": "2021-01-25T20:12:35.817069Z"
    }
   },
   "outputs": [
    {
     "data": {
      "text/plain": [
       "[63, 22, 8, 4, 3]"
      ]
     },
     "execution_count": 411,
     "metadata": {},
     "output_type": "execute_result"
    }
   ],
   "source": [
    "country_newvalue = []\n",
    "for cv in country_count:\n",
    "    new_value = (cv * 1) / sum(country_count)\n",
    "    new_value = int(round(new_value * 100, 0))\n",
    "    country_newvalue.append(new_value)\n",
    "country_newvalue"
   ]
  },
  {
   "cell_type": "code",
   "execution_count": 412,
   "metadata": {
    "ExecuteTime": {
     "end_time": "2021-01-25T20:13:24.307300Z",
     "start_time": "2021-01-25T20:13:24.214001Z"
    }
   },
   "outputs": [
    {
     "data": {
      "image/png": "[encoded data removed]",
      "text/plain": [
       "<Figure size 432x288 with 1 Axes>"
      ]
     },
     "metadata": {},
     "output_type": "display_data"
    }
   ],
   "source": [
    "plt.pie(country_newvalue, labels=country_list)\n",
    "plt.show()"
   ]
  },
  {
   "cell_type": "markdown",
   "metadata": {
    "ExecuteTime": {
     "end_time": "2021-01-25T19:49:20.737205Z",
     "start_time": "2021-01-25T19:49:20.734698Z"
    }
   },
   "source": [
    "## Analysis by age"
   ]
  },
  {
   "cell_type": "code",
   "execution_count": 413,
   "metadata": {
    "ExecuteTime": {
     "end_time": "2021-01-25T20:14:04.615240Z",
     "start_time": "2021-01-25T20:14:04.607218Z"
    }
   },
   "outputs": [
    {
     "data": {
      "text/plain": [
       "count    1481.000000\n",
       "mean     30.203241  \n",
       "std      15.458048  \n",
       "min      3.000000   \n",
       "25%      18.000000  \n",
       "50%      27.000000  \n",
       "75%      41.000000  \n",
       "max      86.000000  \n",
       "Name: Age, dtype: float64"
      ]
     },
     "execution_count": 413,
     "metadata": {},
     "output_type": "execute_result"
    }
   ],
   "source": [
    "db2['Age'].describe()"
   ]
  }
 ],
 "metadata": {
  "kernelspec": {
   "display_name": "Python 3",
   "language": "python",
   "name": "python3"
  },
  "language_info": {
   "codemirror_mode": {
    "name": "ipython",
    "version": 3
   },
   "file_extension": ".py",
   "mimetype": "text/x-python",
   "name": "python",
   "nbconvert_exporter": "python",
   "pygments_lexer": "ipython3",
   "version": "3.8.3"
  },
  "toc": {
   "base_numbering": 1,
   "nav_menu": {},
   "number_sections": true,
   "sideBar": true,
   "skip_h1_title": false,
   "title_cell": "Table of Contents",
   "title_sidebar": "Contents",
   "toc_cell": false,
   "toc_position": {},
   "toc_section_display": true,
   "toc_window_display": false
  },
  "varInspector": {
   "cols": {
    "lenName": 16,
    "lenType": 16,
    "lenVar": 40
   },
   "kernels_config": {
    "python": {
     "delete_cmd_postfix": "",
     "delete_cmd_prefix": "del ",
     "library": "var_list.py",
     "varRefreshCmd": "print(var_dic_list())"
    },
    "r": {
     "delete_cmd_postfix": ") ",
     "delete_cmd_prefix": "rm(",
     "library": "var_list.r",
     "varRefreshCmd": "cat(var_dic_list()) "
    }
   },
   "position": {
    "height": "491px",
    "left": "1464px",
    "right": "20px",
    "top": "125px",
    "width": "352px"
   },
   "types_to_exclude": [
    "module",
    "function",
    "builtin_function_or_method",
    "instance",
    "_Feature"
   ],
   "window_display": false
  }
 },
 "nbformat": 4,
 "nbformat_minor": 4
}
